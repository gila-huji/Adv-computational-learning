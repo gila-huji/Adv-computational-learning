{
 "cells": [
  {
   "cell_type": "code",
   "execution_count": 1,
   "id": "da80f079-6c11-4a91-a7c0-1620a9df81cb",
   "metadata": {
    "execution": {
     "iopub.execute_input": "2024-09-16T08:44:50.873872Z",
     "iopub.status.busy": "2024-09-16T08:44:50.873598Z",
     "iopub.status.idle": "2024-09-16T10:22:36.936298Z",
     "shell.execute_reply": "2024-09-16T10:22:36.935878Z",
     "shell.execute_reply.started": "2024-09-16T08:44:50.873856Z"
    }
   },
   "outputs": [
    {
     "name": "stderr",
     "output_type": "stream",
     "text": [
      "/sci/home/rsrs1302/.conda/envs/env/lib/python3.11/site-packages/tqdm/auto.py:21: TqdmWarning: IProgress not found. Please update jupyter and ipywidgets. See https://ipywidgets.readthedocs.io/en/stable/user_install.html\n",
      "  from .autonotebook import tqdm as notebook_tqdm\n"
     ]
    },
    {
     "name": "stdout",
     "output_type": "stream",
     "text": [
      "Loading data...\n",
      "Cleaning data...\n",
      "Cleaning data...\n",
      "Cleaning data...\n",
      "Cleaning data...\n",
      "Calculating average mod_qual for CpG sites...\n",
      "Calculating average mod_qual for CpG sites...\n",
      "Preparing training data...\n",
      "Extracting CpG-level differences...\n",
      "Padding feature vectors...\n",
      "Preparing test data...\n",
      "Extracting CpG-level differences...\n",
      "Extracting CpG-level differences...\n",
      "Padding feature vectors...\n",
      "Splitting data into training and validation sets...\n"
     ]
    }
   ],
   "source": [
    "import pandas as pd\n",
    "import numpy as np\n",
    "import matplotlib.pyplot as plt\n",
    "import torch\n",
    "import torch.nn as nn\n",
    "import torch.optim as optim\n",
    "from torch.utils.data import DataLoader, TensorDataset\n",
    "from sklearn.metrics import accuracy_score, precision_score, recall_score, f1_score, roc_curve, auc\n",
    "from sklearn.model_selection import train_test_split\n",
    "import optuna\n",
    "from sklearn.neural_network import MLPClassifier\n",
    "\n",
    "pd.set_option('display.max_columns', 1000)\n",
    "\n",
    "# Load your data\n",
    "print(\"Loading data...\")\n",
    "train1 = pd.read_csv(\"../../../labs/benjamin.yakir/gila/genomic_data/train_test/set1/modkit/HG001_train\", sep='\\t')\n",
    "train2 = pd.read_csv(\"../../../labs/benjamin.yakir/gila/genomic_data/train_test/set1/modkit/HG002_train\", sep='\\t')\n",
    "test1 = pd.read_csv(\"../../../labs/benjamin.yakir/gila/genomic_data/train_test/set1/modkit/HG001_test\", sep='\\t')\n",
    "test2 = pd.read_csv(\"../../../labs/benjamin.yakir/gila/genomic_data/train_test/set1/modkit/HG002_test\", sep='\\t')\n",
    "cpg = pd.read_csv(\"../../../labs/benjamin.yakir/gila/genomic_data/reference_data/CpG_HG38/CpG_chr21.csv\")\n",
    "cpg.rename(columns={'V1': 'chr', 'V2': 'ref_pos', 'V3': 'CpG_site'}, inplace=True)\n",
    "\n",
    "def clean(df):\n",
    "    print(\"Cleaning data...\")\n",
    "    df = df.groupby(['read_id', 'forward_read_position', 'ref_position', 'chrom', 'mod_strand', 'ref_strand', 'ref_mod_strand',\n",
    "                'fw_soft_clipped_start', 'fw_soft_clipped_end', 'read_length', 'base_qual']).agg({'mod_qual': 'max'}).reset_index()\n",
    "\n",
    "    df['ref_position_adj'] = np.where(df['ref_mod_strand'] == '+', df['ref_position'] + 1, df['ref_position'])\n",
    "    df = df.merge(cpg, left_on='ref_position_adj', right_on='ref_pos', how='left')\n",
    "    df.drop(columns=['chr', 'ref_pos'], inplace=True)\n",
    "\n",
    "    return(df)\n",
    "\n",
    "# Clean train and test data\n",
    "train1 = clean(train1)\n",
    "train2 = clean(train2)\n",
    "test1 = clean(test1)\n",
    "test2 = clean(test2)\n",
    "\n",
    "train1 = train1[[\"read_id\", \"CpG_site\", \"mod_qual\"]]\n",
    "train2 = train2[[\"read_id\", \"CpG_site\", \"mod_qual\"]]\n",
    "test1 = test1[[\"read_id\", \"CpG_site\", \"mod_qual\"]]\n",
    "test2 = test2[[\"read_id\", \"CpG_site\", \"mod_qual\"]]\n",
    "\n",
    "def calculate_avg_mod_qual(df):\n",
    "    print(\"Calculating average mod_qual for CpG sites...\")\n",
    "    return df.groupby('CpG_site')['mod_qual'].mean().to_dict()\n",
    "\n",
    "avg_mod_qual_a = calculate_avg_mod_qual(train1)  # Person A averages\n",
    "avg_mod_qual_b = calculate_avg_mod_qual(train2)  # Person B averages\n",
    "\n",
    "def extract_cpg_differences(df, avg_mod_qual_a, avg_mod_qual_b, max_len=180):\n",
    "    print(\"Extracting CpG-level differences...\")\n",
    "    features = []\n",
    "    labels = []\n",
    "    grouped = df.groupby('read_id')\n",
    "    \n",
    "    for read_id, group in grouped:\n",
    "        read_features = []\n",
    "        for _, row in group.iterrows():\n",
    "            cpg = row['CpG_site']\n",
    "            mod_qual = row['mod_qual']\n",
    "            \n",
    "            if cpg in avg_mod_qual_a and cpg in avg_mod_qual_b:\n",
    "                diff_a = mod_qual - avg_mod_qual_a[cpg]\n",
    "                diff_b = mod_qual - avg_mod_qual_b[cpg]\n",
    "                read_features.append(diff_a)\n",
    "                read_features.append(diff_b)\n",
    "        \n",
    "        if len(read_features) > max_len:\n",
    "            read_features = read_features[:max_len]\n",
    "        \n",
    "        if read_features:\n",
    "            features.append(torch.tensor(read_features, dtype=torch.float32))\n",
    "            labels.append(1 if row['person'] == 'A' else 0)  # 1 for Person A, 0 for Person B\n",
    "    \n",
    "    return features, labels\n",
    "\n",
    "# Train Data Preparation\n",
    "print(\"Preparing training data...\")\n",
    "train1['person'] = 'A'\n",
    "train2['person'] = 'B'\n",
    "test1['person'] = 'A'\n",
    "test2['person'] = 'B'\n",
    "\n",
    "combined_train = pd.concat([train1, train2])\n",
    "features_train, labels_train = extract_cpg_differences(combined_train, avg_mod_qual_a, avg_mod_qual_b)\n",
    "\n",
    "# Pad the train features and create y_train_tensor\n",
    "def pad_features(features, max_len=180):\n",
    "    print(\"Padding feature vectors...\")\n",
    "    padded_features = []\n",
    "    for f in features:\n",
    "        if f.shape[0] > max_len:\n",
    "            f = f[:max_len]\n",
    "        elif f.shape[0] < max_len:\n",
    "            f = torch.cat([f, torch.zeros(max_len - f.shape[0])])\n",
    "        padded_features.append(f)\n",
    "    return torch.stack(padded_features)\n",
    "\n",
    "X_train_tensor = pad_features(features_train, max_len=180)\n",
    "y_train_tensor = torch.tensor(labels_train, dtype=torch.float32).view(-1, 1)\n",
    "\n",
    "# Test Data Preparation\n",
    "print(\"Preparing test data...\")\n",
    "features_test1, labels_test1 = extract_cpg_differences(test1, avg_mod_qual_a, avg_mod_qual_b)\n",
    "features_test2, labels_test2 = extract_cpg_differences(test2, avg_mod_qual_a, avg_mod_qual_b)\n",
    "\n",
    "# Combine test features and labels\n",
    "features_test = features_test1 + features_test2\n",
    "labels_test = labels_test1 + labels_test2\n",
    "\n",
    "# Pad the test features and create y_test_tensor\n",
    "X_test_tensor = pad_features(features_test, max_len=180)\n",
    "y_test_tensor = torch.tensor(labels_test, dtype=torch.float32).view(-1, 1)\n",
    "\n",
    "# Flatten train and test tensors for MLP\n",
    "X_train_flat = X_train_tensor.numpy().reshape(X_train_tensor.shape[0], -1)\n",
    "y_train_flat = y_train_tensor.numpy().ravel()\n",
    "\n",
    "X_test_flat = X_test_tensor.numpy().reshape(X_test_tensor.shape[0], -1)\n",
    "y_test_flat = y_test_tensor.numpy().ravel()\n",
    "\n",
    "# Train-test split for hyperparameter tuning\n",
    "print(\"Splitting data into training and validation sets...\")\n",
    "X_train_opt, X_valid_opt, y_train_opt, y_valid_opt = train_test_split(X_train_flat, y_train_flat, test_size=0.2, random_state=42)\n"
   ]
  },
  {
   "cell_type": "code",
   "execution_count": 4,
   "id": "58bb92fa-d26b-4cca-acf1-474160401c73",
   "metadata": {
    "execution": {
     "iopub.execute_input": "2024-09-15T15:53:19.318447Z",
     "iopub.status.busy": "2024-09-15T15:53:19.318255Z",
     "iopub.status.idle": "2024-09-15T16:47:25.540044Z",
     "shell.execute_reply": "2024-09-15T16:47:25.539245Z",
     "shell.execute_reply.started": "2024-09-15T15:53:19.318433Z"
    }
   },
   "outputs": [
    {
     "name": "stderr",
     "output_type": "stream",
     "text": [
      "[I 2024-09-15 18:53:19,331] A new study created in memory with name: no-name-f345c8bf-2aee-4056-aa03-6802149648b7\n"
     ]
    },
    {
     "name": "stdout",
     "output_type": "stream",
     "text": [
      "Running Optuna for MLP...\n"
     ]
    },
    {
     "name": "stderr",
     "output_type": "stream",
     "text": [
      "/sci/home/rsrs1302/.conda/envs/env/lib/python3.11/site-packages/optuna/distributions.py:524: UserWarning: Choices for a categorical distribution should be a tuple of None, bool, int, float and str for persistent storage but contains (64,) which is of type tuple.\n",
      "  warnings.warn(message)\n",
      "/sci/home/rsrs1302/.conda/envs/env/lib/python3.11/site-packages/optuna/distributions.py:524: UserWarning: Choices for a categorical distribution should be a tuple of None, bool, int, float and str for persistent storage but contains (128,) which is of type tuple.\n",
      "  warnings.warn(message)\n",
      "/sci/home/rsrs1302/.conda/envs/env/lib/python3.11/site-packages/optuna/distributions.py:524: UserWarning: Choices for a categorical distribution should be a tuple of None, bool, int, float and str for persistent storage but contains (256,) which is of type tuple.\n",
      "  warnings.warn(message)\n",
      "/sci/home/rsrs1302/.conda/envs/env/lib/python3.11/site-packages/optuna/distributions.py:524: UserWarning: Choices for a categorical distribution should be a tuple of None, bool, int, float and str for persistent storage but contains (64, 32) which is of type tuple.\n",
      "  warnings.warn(message)\n",
      "/sci/home/rsrs1302/.conda/envs/env/lib/python3.11/site-packages/optuna/distributions.py:524: UserWarning: Choices for a categorical distribution should be a tuple of None, bool, int, float and str for persistent storage but contains (128, 64) which is of type tuple.\n",
      "  warnings.warn(message)\n",
      "/sci/home/rsrs1302/.conda/envs/env/lib/python3.11/site-packages/optuna/distributions.py:524: UserWarning: Choices for a categorical distribution should be a tuple of None, bool, int, float and str for persistent storage but contains (256, 128, 64) which is of type tuple.\n",
      "  warnings.warn(message)\n",
      "/sci/home/rsrs1302/.conda/envs/env/lib/python3.11/site-packages/optuna/distributions.py:524: UserWarning: Choices for a categorical distribution should be a tuple of None, bool, int, float and str for persistent storage but contains (256, 128, 64, 32) which is of type tuple.\n",
      "  warnings.warn(message)\n",
      "/tmp/ipykernel_119352/2329270089.py:16: FutureWarning: suggest_loguniform has been deprecated in v3.0.0. This feature will be removed in v6.0.0. See https://github.com/optuna/optuna/releases/tag/v3.0.0. Use suggest_float(..., log=True) instead.\n",
      "  alpha = trial.suggest_loguniform('alpha', 1e-5, 1e-2)\n",
      "/tmp/ipykernel_119352/2329270089.py:17: FutureWarning: suggest_loguniform has been deprecated in v3.0.0. This feature will be removed in v6.0.0. See https://github.com/optuna/optuna/releases/tag/v3.0.0. Use suggest_float(..., log=True) instead.\n",
      "  learning_rate_init = trial.suggest_loguniform('learning_rate_init', 1e-5, 1e-2)\n",
      "/sci/home/rsrs1302/.conda/envs/env/lib/python3.11/site-packages/sklearn/neural_network/_multilayer_perceptron.py:690: ConvergenceWarning: Stochastic Optimizer: Maximum iterations (100) reached and the optimization hasn't converged yet.\n",
      "  warnings.warn(\n",
      "[I 2024-09-15 19:00:34,615] Trial 0 finished with value: 0.9291596226100779 and parameters: {'hidden_layer_sizes': (256, 128, 64, 32), 'activation': 'tanh', 'solver': 'sgd', 'alpha': 0.00047712553566080945, 'learning_rate_init': 0.001741179715645999, 'dropout': 0.42179904968400544}. Best is trial 0 with value: 0.9291596226100779.\n",
      "/sci/home/rsrs1302/.conda/envs/env/lib/python3.11/site-packages/optuna/distributions.py:524: UserWarning: Choices for a categorical distribution should be a tuple of None, bool, int, float and str for persistent storage but contains (64,) which is of type tuple.\n",
      "  warnings.warn(message)\n",
      "/sci/home/rsrs1302/.conda/envs/env/lib/python3.11/site-packages/optuna/distributions.py:524: UserWarning: Choices for a categorical distribution should be a tuple of None, bool, int, float and str for persistent storage but contains (128,) which is of type tuple.\n",
      "  warnings.warn(message)\n",
      "/sci/home/rsrs1302/.conda/envs/env/lib/python3.11/site-packages/optuna/distributions.py:524: UserWarning: Choices for a categorical distribution should be a tuple of None, bool, int, float and str for persistent storage but contains (256,) which is of type tuple.\n",
      "  warnings.warn(message)\n",
      "/sci/home/rsrs1302/.conda/envs/env/lib/python3.11/site-packages/optuna/distributions.py:524: UserWarning: Choices for a categorical distribution should be a tuple of None, bool, int, float and str for persistent storage but contains (64, 32) which is of type tuple.\n",
      "  warnings.warn(message)\n",
      "/sci/home/rsrs1302/.conda/envs/env/lib/python3.11/site-packages/optuna/distributions.py:524: UserWarning: Choices for a categorical distribution should be a tuple of None, bool, int, float and str for persistent storage but contains (128, 64) which is of type tuple.\n",
      "  warnings.warn(message)\n",
      "/sci/home/rsrs1302/.conda/envs/env/lib/python3.11/site-packages/optuna/distributions.py:524: UserWarning: Choices for a categorical distribution should be a tuple of None, bool, int, float and str for persistent storage but contains (256, 128, 64) which is of type tuple.\n",
      "  warnings.warn(message)\n",
      "/sci/home/rsrs1302/.conda/envs/env/lib/python3.11/site-packages/optuna/distributions.py:524: UserWarning: Choices for a categorical distribution should be a tuple of None, bool, int, float and str for persistent storage but contains (256, 128, 64, 32) which is of type tuple.\n",
      "  warnings.warn(message)\n",
      "/tmp/ipykernel_119352/2329270089.py:16: FutureWarning: suggest_loguniform has been deprecated in v3.0.0. This feature will be removed in v6.0.0. See https://github.com/optuna/optuna/releases/tag/v3.0.0. Use suggest_float(..., log=True) instead.\n",
      "  alpha = trial.suggest_loguniform('alpha', 1e-5, 1e-2)\n",
      "/tmp/ipykernel_119352/2329270089.py:17: FutureWarning: suggest_loguniform has been deprecated in v3.0.0. This feature will be removed in v6.0.0. See https://github.com/optuna/optuna/releases/tag/v3.0.0. Use suggest_float(..., log=True) instead.\n",
      "  learning_rate_init = trial.suggest_loguniform('learning_rate_init', 1e-5, 1e-2)\n",
      "[I 2024-09-15 19:01:33,005] Trial 1 finished with value: 0.920993535487888 and parameters: {'hidden_layer_sizes': (128, 64), 'activation': 'tanh', 'solver': 'adam', 'alpha': 0.0010006588937054627, 'learning_rate_init': 0.0013646807853287036, 'dropout': 0.45676884579248334}. Best is trial 0 with value: 0.9291596226100779.\n",
      "/sci/home/rsrs1302/.conda/envs/env/lib/python3.11/site-packages/optuna/distributions.py:524: UserWarning: Choices for a categorical distribution should be a tuple of None, bool, int, float and str for persistent storage but contains (64,) which is of type tuple.\n",
      "  warnings.warn(message)\n",
      "/sci/home/rsrs1302/.conda/envs/env/lib/python3.11/site-packages/optuna/distributions.py:524: UserWarning: Choices for a categorical distribution should be a tuple of None, bool, int, float and str for persistent storage but contains (128,) which is of type tuple.\n",
      "  warnings.warn(message)\n",
      "/sci/home/rsrs1302/.conda/envs/env/lib/python3.11/site-packages/optuna/distributions.py:524: UserWarning: Choices for a categorical distribution should be a tuple of None, bool, int, float and str for persistent storage but contains (256,) which is of type tuple.\n",
      "  warnings.warn(message)\n",
      "/sci/home/rsrs1302/.conda/envs/env/lib/python3.11/site-packages/optuna/distributions.py:524: UserWarning: Choices for a categorical distribution should be a tuple of None, bool, int, float and str for persistent storage but contains (64, 32) which is of type tuple.\n",
      "  warnings.warn(message)\n",
      "/sci/home/rsrs1302/.conda/envs/env/lib/python3.11/site-packages/optuna/distributions.py:524: UserWarning: Choices for a categorical distribution should be a tuple of None, bool, int, float and str for persistent storage but contains (128, 64) which is of type tuple.\n",
      "  warnings.warn(message)\n",
      "/sci/home/rsrs1302/.conda/envs/env/lib/python3.11/site-packages/optuna/distributions.py:524: UserWarning: Choices for a categorical distribution should be a tuple of None, bool, int, float and str for persistent storage but contains (256, 128, 64) which is of type tuple.\n",
      "  warnings.warn(message)\n",
      "/sci/home/rsrs1302/.conda/envs/env/lib/python3.11/site-packages/optuna/distributions.py:524: UserWarning: Choices for a categorical distribution should be a tuple of None, bool, int, float and str for persistent storage but contains (256, 128, 64, 32) which is of type tuple.\n",
      "  warnings.warn(message)\n",
      "/tmp/ipykernel_119352/2329270089.py:16: FutureWarning: suggest_loguniform has been deprecated in v3.0.0. This feature will be removed in v6.0.0. See https://github.com/optuna/optuna/releases/tag/v3.0.0. Use suggest_float(..., log=True) instead.\n",
      "  alpha = trial.suggest_loguniform('alpha', 1e-5, 1e-2)\n",
      "/tmp/ipykernel_119352/2329270089.py:17: FutureWarning: suggest_loguniform has been deprecated in v3.0.0. This feature will be removed in v6.0.0. See https://github.com/optuna/optuna/releases/tag/v3.0.0. Use suggest_float(..., log=True) instead.\n",
      "  learning_rate_init = trial.suggest_loguniform('learning_rate_init', 1e-5, 1e-2)\n",
      "[I 2024-09-15 19:08:45,937] Trial 2 finished with value: 0.9262520060574467 and parameters: {'hidden_layer_sizes': (256, 128, 64, 32), 'activation': 'tanh', 'solver': 'sgd', 'alpha': 2.4076010179152075e-05, 'learning_rate_init': 0.000964717166684749, 'dropout': 0.17906946592043005}. Best is trial 0 with value: 0.9291596226100779.\n",
      "/sci/home/rsrs1302/.conda/envs/env/lib/python3.11/site-packages/optuna/distributions.py:524: UserWarning: Choices for a categorical distribution should be a tuple of None, bool, int, float and str for persistent storage but contains (64,) which is of type tuple.\n",
      "  warnings.warn(message)\n",
      "/sci/home/rsrs1302/.conda/envs/env/lib/python3.11/site-packages/optuna/distributions.py:524: UserWarning: Choices for a categorical distribution should be a tuple of None, bool, int, float and str for persistent storage but contains (128,) which is of type tuple.\n",
      "  warnings.warn(message)\n",
      "/sci/home/rsrs1302/.conda/envs/env/lib/python3.11/site-packages/optuna/distributions.py:524: UserWarning: Choices for a categorical distribution should be a tuple of None, bool, int, float and str for persistent storage but contains (256,) which is of type tuple.\n",
      "  warnings.warn(message)\n",
      "/sci/home/rsrs1302/.conda/envs/env/lib/python3.11/site-packages/optuna/distributions.py:524: UserWarning: Choices for a categorical distribution should be a tuple of None, bool, int, float and str for persistent storage but contains (64, 32) which is of type tuple.\n",
      "  warnings.warn(message)\n",
      "/sci/home/rsrs1302/.conda/envs/env/lib/python3.11/site-packages/optuna/distributions.py:524: UserWarning: Choices for a categorical distribution should be a tuple of None, bool, int, float and str for persistent storage but contains (128, 64) which is of type tuple.\n",
      "  warnings.warn(message)\n",
      "/sci/home/rsrs1302/.conda/envs/env/lib/python3.11/site-packages/optuna/distributions.py:524: UserWarning: Choices for a categorical distribution should be a tuple of None, bool, int, float and str for persistent storage but contains (256, 128, 64) which is of type tuple.\n",
      "  warnings.warn(message)\n",
      "/sci/home/rsrs1302/.conda/envs/env/lib/python3.11/site-packages/optuna/distributions.py:524: UserWarning: Choices for a categorical distribution should be a tuple of None, bool, int, float and str for persistent storage but contains (256, 128, 64, 32) which is of type tuple.\n",
      "  warnings.warn(message)\n",
      "/tmp/ipykernel_119352/2329270089.py:16: FutureWarning: suggest_loguniform has been deprecated in v3.0.0. This feature will be removed in v6.0.0. See https://github.com/optuna/optuna/releases/tag/v3.0.0. Use suggest_float(..., log=True) instead.\n",
      "  alpha = trial.suggest_loguniform('alpha', 1e-5, 1e-2)\n",
      "/tmp/ipykernel_119352/2329270089.py:17: FutureWarning: suggest_loguniform has been deprecated in v3.0.0. This feature will be removed in v6.0.0. See https://github.com/optuna/optuna/releases/tag/v3.0.0. Use suggest_float(..., log=True) instead.\n",
      "  learning_rate_init = trial.suggest_loguniform('learning_rate_init', 1e-5, 1e-2)\n",
      "[I 2024-09-15 19:11:14,499] Trial 3 finished with value: 0.8586257614371843 and parameters: {'hidden_layer_sizes': (128, 64), 'activation': 'tanh', 'solver': 'sgd', 'alpha': 0.0009517645109574904, 'learning_rate_init': 2.3547279717387673e-05, 'dropout': 0.47112171285016496}. Best is trial 0 with value: 0.9291596226100779.\n",
      "/sci/home/rsrs1302/.conda/envs/env/lib/python3.11/site-packages/optuna/distributions.py:524: UserWarning: Choices for a categorical distribution should be a tuple of None, bool, int, float and str for persistent storage but contains (64,) which is of type tuple.\n",
      "  warnings.warn(message)\n",
      "/sci/home/rsrs1302/.conda/envs/env/lib/python3.11/site-packages/optuna/distributions.py:524: UserWarning: Choices for a categorical distribution should be a tuple of None, bool, int, float and str for persistent storage but contains (128,) which is of type tuple.\n",
      "  warnings.warn(message)\n",
      "/sci/home/rsrs1302/.conda/envs/env/lib/python3.11/site-packages/optuna/distributions.py:524: UserWarning: Choices for a categorical distribution should be a tuple of None, bool, int, float and str for persistent storage but contains (256,) which is of type tuple.\n",
      "  warnings.warn(message)\n",
      "/sci/home/rsrs1302/.conda/envs/env/lib/python3.11/site-packages/optuna/distributions.py:524: UserWarning: Choices for a categorical distribution should be a tuple of None, bool, int, float and str for persistent storage but contains (64, 32) which is of type tuple.\n",
      "  warnings.warn(message)\n",
      "/sci/home/rsrs1302/.conda/envs/env/lib/python3.11/site-packages/optuna/distributions.py:524: UserWarning: Choices for a categorical distribution should be a tuple of None, bool, int, float and str for persistent storage but contains (128, 64) which is of type tuple.\n",
      "  warnings.warn(message)\n",
      "/sci/home/rsrs1302/.conda/envs/env/lib/python3.11/site-packages/optuna/distributions.py:524: UserWarning: Choices for a categorical distribution should be a tuple of None, bool, int, float and str for persistent storage but contains (256, 128, 64) which is of type tuple.\n",
      "  warnings.warn(message)\n",
      "/sci/home/rsrs1302/.conda/envs/env/lib/python3.11/site-packages/optuna/distributions.py:524: UserWarning: Choices for a categorical distribution should be a tuple of None, bool, int, float and str for persistent storage but contains (256, 128, 64, 32) which is of type tuple.\n",
      "  warnings.warn(message)\n",
      "/tmp/ipykernel_119352/2329270089.py:16: FutureWarning: suggest_loguniform has been deprecated in v3.0.0. This feature will be removed in v6.0.0. See https://github.com/optuna/optuna/releases/tag/v3.0.0. Use suggest_float(..., log=True) instead.\n",
      "  alpha = trial.suggest_loguniform('alpha', 1e-5, 1e-2)\n",
      "/tmp/ipykernel_119352/2329270089.py:17: FutureWarning: suggest_loguniform has been deprecated in v3.0.0. This feature will be removed in v6.0.0. See https://github.com/optuna/optuna/releases/tag/v3.0.0. Use suggest_float(..., log=True) instead.\n",
      "  learning_rate_init = trial.suggest_loguniform('learning_rate_init', 1e-5, 1e-2)\n",
      "/sci/home/rsrs1302/.conda/envs/env/lib/python3.11/site-packages/sklearn/neural_network/_multilayer_perceptron.py:690: ConvergenceWarning: Stochastic Optimizer: Maximum iterations (100) reached and the optimization hasn't converged yet.\n",
      "  warnings.warn(\n",
      "[I 2024-09-15 19:12:48,688] Trial 4 finished with value: 0.9246082908018335 and parameters: {'hidden_layer_sizes': (64,), 'activation': 'tanh', 'solver': 'adam', 'alpha': 0.0006686977843288413, 'learning_rate_init': 0.0002705404329972026, 'dropout': 0.22040275103989138}. Best is trial 0 with value: 0.9291596226100779.\n",
      "/sci/home/rsrs1302/.conda/envs/env/lib/python3.11/site-packages/optuna/distributions.py:524: UserWarning: Choices for a categorical distribution should be a tuple of None, bool, int, float and str for persistent storage but contains (64,) which is of type tuple.\n",
      "  warnings.warn(message)\n",
      "/sci/home/rsrs1302/.conda/envs/env/lib/python3.11/site-packages/optuna/distributions.py:524: UserWarning: Choices for a categorical distribution should be a tuple of None, bool, int, float and str for persistent storage but contains (128,) which is of type tuple.\n",
      "  warnings.warn(message)\n",
      "/sci/home/rsrs1302/.conda/envs/env/lib/python3.11/site-packages/optuna/distributions.py:524: UserWarning: Choices for a categorical distribution should be a tuple of None, bool, int, float and str for persistent storage but contains (256,) which is of type tuple.\n",
      "  warnings.warn(message)\n",
      "/sci/home/rsrs1302/.conda/envs/env/lib/python3.11/site-packages/optuna/distributions.py:524: UserWarning: Choices for a categorical distribution should be a tuple of None, bool, int, float and str for persistent storage but contains (64, 32) which is of type tuple.\n",
      "  warnings.warn(message)\n",
      "/sci/home/rsrs1302/.conda/envs/env/lib/python3.11/site-packages/optuna/distributions.py:524: UserWarning: Choices for a categorical distribution should be a tuple of None, bool, int, float and str for persistent storage but contains (128, 64) which is of type tuple.\n",
      "  warnings.warn(message)\n",
      "/sci/home/rsrs1302/.conda/envs/env/lib/python3.11/site-packages/optuna/distributions.py:524: UserWarning: Choices for a categorical distribution should be a tuple of None, bool, int, float and str for persistent storage but contains (256, 128, 64) which is of type tuple.\n",
      "  warnings.warn(message)\n",
      "/sci/home/rsrs1302/.conda/envs/env/lib/python3.11/site-packages/optuna/distributions.py:524: UserWarning: Choices for a categorical distribution should be a tuple of None, bool, int, float and str for persistent storage but contains (256, 128, 64, 32) which is of type tuple.\n",
      "  warnings.warn(message)\n",
      "/tmp/ipykernel_119352/2329270089.py:16: FutureWarning: suggest_loguniform has been deprecated in v3.0.0. This feature will be removed in v6.0.0. See https://github.com/optuna/optuna/releases/tag/v3.0.0. Use suggest_float(..., log=True) instead.\n",
      "  alpha = trial.suggest_loguniform('alpha', 1e-5, 1e-2)\n",
      "/tmp/ipykernel_119352/2329270089.py:17: FutureWarning: suggest_loguniform has been deprecated in v3.0.0. This feature will be removed in v6.0.0. See https://github.com/optuna/optuna/releases/tag/v3.0.0. Use suggest_float(..., log=True) instead.\n",
      "  learning_rate_init = trial.suggest_loguniform('learning_rate_init', 1e-5, 1e-2)\n",
      "/sci/home/rsrs1302/.conda/envs/env/lib/python3.11/site-packages/sklearn/neural_network/_multilayer_perceptron.py:690: ConvergenceWarning: Stochastic Optimizer: Maximum iterations (100) reached and the optimization hasn't converged yet.\n",
      "  warnings.warn(\n",
      "[I 2024-09-15 19:14:41,811] Trial 5 finished with value: 0.9192695300775902 and parameters: {'hidden_layer_sizes': (64, 32), 'activation': 'tanh', 'solver': 'sgd', 'alpha': 0.0036553690608128373, 'learning_rate_init': 0.0018796892288709293, 'dropout': 0.4770895132182528}. Best is trial 0 with value: 0.9291596226100779.\n",
      "/sci/home/rsrs1302/.conda/envs/env/lib/python3.11/site-packages/optuna/distributions.py:524: UserWarning: Choices for a categorical distribution should be a tuple of None, bool, int, float and str for persistent storage but contains (64,) which is of type tuple.\n",
      "  warnings.warn(message)\n",
      "/sci/home/rsrs1302/.conda/envs/env/lib/python3.11/site-packages/optuna/distributions.py:524: UserWarning: Choices for a categorical distribution should be a tuple of None, bool, int, float and str for persistent storage but contains (128,) which is of type tuple.\n",
      "  warnings.warn(message)\n",
      "/sci/home/rsrs1302/.conda/envs/env/lib/python3.11/site-packages/optuna/distributions.py:524: UserWarning: Choices for a categorical distribution should be a tuple of None, bool, int, float and str for persistent storage but contains (256,) which is of type tuple.\n",
      "  warnings.warn(message)\n",
      "/sci/home/rsrs1302/.conda/envs/env/lib/python3.11/site-packages/optuna/distributions.py:524: UserWarning: Choices for a categorical distribution should be a tuple of None, bool, int, float and str for persistent storage but contains (64, 32) which is of type tuple.\n",
      "  warnings.warn(message)\n",
      "/sci/home/rsrs1302/.conda/envs/env/lib/python3.11/site-packages/optuna/distributions.py:524: UserWarning: Choices for a categorical distribution should be a tuple of None, bool, int, float and str for persistent storage but contains (128, 64) which is of type tuple.\n",
      "  warnings.warn(message)\n",
      "/sci/home/rsrs1302/.conda/envs/env/lib/python3.11/site-packages/optuna/distributions.py:524: UserWarning: Choices for a categorical distribution should be a tuple of None, bool, int, float and str for persistent storage but contains (256, 128, 64) which is of type tuple.\n",
      "  warnings.warn(message)\n",
      "/sci/home/rsrs1302/.conda/envs/env/lib/python3.11/site-packages/optuna/distributions.py:524: UserWarning: Choices for a categorical distribution should be a tuple of None, bool, int, float and str for persistent storage but contains (256, 128, 64, 32) which is of type tuple.\n",
      "  warnings.warn(message)\n",
      "/tmp/ipykernel_119352/2329270089.py:16: FutureWarning: suggest_loguniform has been deprecated in v3.0.0. This feature will be removed in v6.0.0. See https://github.com/optuna/optuna/releases/tag/v3.0.0. Use suggest_float(..., log=True) instead.\n",
      "  alpha = trial.suggest_loguniform('alpha', 1e-5, 1e-2)\n",
      "/tmp/ipykernel_119352/2329270089.py:17: FutureWarning: suggest_loguniform has been deprecated in v3.0.0. This feature will be removed in v6.0.0. See https://github.com/optuna/optuna/releases/tag/v3.0.0. Use suggest_float(..., log=True) instead.\n",
      "  learning_rate_init = trial.suggest_loguniform('learning_rate_init', 1e-5, 1e-2)\n",
      "/sci/home/rsrs1302/.conda/envs/env/lib/python3.11/site-packages/sklearn/neural_network/_multilayer_perceptron.py:690: ConvergenceWarning: Stochastic Optimizer: Maximum iterations (100) reached and the optimization hasn't converged yet.\n",
      "  warnings.warn(\n",
      "[I 2024-09-15 19:21:28,977] Trial 6 finished with value: 0.9112429058387712 and parameters: {'hidden_layer_sizes': (256, 128, 64, 32), 'activation': 'relu', 'solver': 'sgd', 'alpha': 1.997829929831692e-05, 'learning_rate_init': 0.000120531410409091, 'dropout': 0.15152282937460348}. Best is trial 0 with value: 0.9291596226100779.\n",
      "/sci/home/rsrs1302/.conda/envs/env/lib/python3.11/site-packages/optuna/distributions.py:524: UserWarning: Choices for a categorical distribution should be a tuple of None, bool, int, float and str for persistent storage but contains (64,) which is of type tuple.\n",
      "  warnings.warn(message)\n",
      "/sci/home/rsrs1302/.conda/envs/env/lib/python3.11/site-packages/optuna/distributions.py:524: UserWarning: Choices for a categorical distribution should be a tuple of None, bool, int, float and str for persistent storage but contains (128,) which is of type tuple.\n",
      "  warnings.warn(message)\n",
      "/sci/home/rsrs1302/.conda/envs/env/lib/python3.11/site-packages/optuna/distributions.py:524: UserWarning: Choices for a categorical distribution should be a tuple of None, bool, int, float and str for persistent storage but contains (256,) which is of type tuple.\n",
      "  warnings.warn(message)\n",
      "/sci/home/rsrs1302/.conda/envs/env/lib/python3.11/site-packages/optuna/distributions.py:524: UserWarning: Choices for a categorical distribution should be a tuple of None, bool, int, float and str for persistent storage but contains (64, 32) which is of type tuple.\n",
      "  warnings.warn(message)\n",
      "/sci/home/rsrs1302/.conda/envs/env/lib/python3.11/site-packages/optuna/distributions.py:524: UserWarning: Choices for a categorical distribution should be a tuple of None, bool, int, float and str for persistent storage but contains (128, 64) which is of type tuple.\n",
      "  warnings.warn(message)\n",
      "/sci/home/rsrs1302/.conda/envs/env/lib/python3.11/site-packages/optuna/distributions.py:524: UserWarning: Choices for a categorical distribution should be a tuple of None, bool, int, float and str for persistent storage but contains (256, 128, 64) which is of type tuple.\n",
      "  warnings.warn(message)\n",
      "/sci/home/rsrs1302/.conda/envs/env/lib/python3.11/site-packages/optuna/distributions.py:524: UserWarning: Choices for a categorical distribution should be a tuple of None, bool, int, float and str for persistent storage but contains (256, 128, 64, 32) which is of type tuple.\n",
      "  warnings.warn(message)\n",
      "/tmp/ipykernel_119352/2329270089.py:16: FutureWarning: suggest_loguniform has been deprecated in v3.0.0. This feature will be removed in v6.0.0. See https://github.com/optuna/optuna/releases/tag/v3.0.0. Use suggest_float(..., log=True) instead.\n",
      "  alpha = trial.suggest_loguniform('alpha', 1e-5, 1e-2)\n",
      "/tmp/ipykernel_119352/2329270089.py:17: FutureWarning: suggest_loguniform has been deprecated in v3.0.0. This feature will be removed in v6.0.0. See https://github.com/optuna/optuna/releases/tag/v3.0.0. Use suggest_float(..., log=True) instead.\n",
      "  learning_rate_init = trial.suggest_loguniform('learning_rate_init', 1e-5, 1e-2)\n",
      "[I 2024-09-15 19:26:49,444] Trial 7 finished with value: 0.8939797230880011 and parameters: {'hidden_layer_sizes': (256, 128, 64, 32), 'activation': 'tanh', 'solver': 'sgd', 'alpha': 7.322382261444447e-05, 'learning_rate_init': 0.00018621601368478855, 'dropout': 0.45302349918417345}. Best is trial 0 with value: 0.9291596226100779.\n",
      "/sci/home/rsrs1302/.conda/envs/env/lib/python3.11/site-packages/optuna/distributions.py:524: UserWarning: Choices for a categorical distribution should be a tuple of None, bool, int, float and str for persistent storage but contains (64,) which is of type tuple.\n",
      "  warnings.warn(message)\n",
      "/sci/home/rsrs1302/.conda/envs/env/lib/python3.11/site-packages/optuna/distributions.py:524: UserWarning: Choices for a categorical distribution should be a tuple of None, bool, int, float and str for persistent storage but contains (128,) which is of type tuple.\n",
      "  warnings.warn(message)\n",
      "/sci/home/rsrs1302/.conda/envs/env/lib/python3.11/site-packages/optuna/distributions.py:524: UserWarning: Choices for a categorical distribution should be a tuple of None, bool, int, float and str for persistent storage but contains (256,) which is of type tuple.\n",
      "  warnings.warn(message)\n",
      "/sci/home/rsrs1302/.conda/envs/env/lib/python3.11/site-packages/optuna/distributions.py:524: UserWarning: Choices for a categorical distribution should be a tuple of None, bool, int, float and str for persistent storage but contains (64, 32) which is of type tuple.\n",
      "  warnings.warn(message)\n",
      "/sci/home/rsrs1302/.conda/envs/env/lib/python3.11/site-packages/optuna/distributions.py:524: UserWarning: Choices for a categorical distribution should be a tuple of None, bool, int, float and str for persistent storage but contains (128, 64) which is of type tuple.\n",
      "  warnings.warn(message)\n",
      "/sci/home/rsrs1302/.conda/envs/env/lib/python3.11/site-packages/optuna/distributions.py:524: UserWarning: Choices for a categorical distribution should be a tuple of None, bool, int, float and str for persistent storage but contains (256, 128, 64) which is of type tuple.\n",
      "  warnings.warn(message)\n",
      "/sci/home/rsrs1302/.conda/envs/env/lib/python3.11/site-packages/optuna/distributions.py:524: UserWarning: Choices for a categorical distribution should be a tuple of None, bool, int, float and str for persistent storage but contains (256, 128, 64, 32) which is of type tuple.\n",
      "  warnings.warn(message)\n",
      "/tmp/ipykernel_119352/2329270089.py:16: FutureWarning: suggest_loguniform has been deprecated in v3.0.0. This feature will be removed in v6.0.0. See https://github.com/optuna/optuna/releases/tag/v3.0.0. Use suggest_float(..., log=True) instead.\n",
      "  alpha = trial.suggest_loguniform('alpha', 1e-5, 1e-2)\n",
      "/tmp/ipykernel_119352/2329270089.py:17: FutureWarning: suggest_loguniform has been deprecated in v3.0.0. This feature will be removed in v6.0.0. See https://github.com/optuna/optuna/releases/tag/v3.0.0. Use suggest_float(..., log=True) instead.\n",
      "  learning_rate_init = trial.suggest_loguniform('learning_rate_init', 1e-5, 1e-2)\n",
      "[I 2024-09-15 19:27:55,574] Trial 8 finished with value: 0.8673149367592913 and parameters: {'hidden_layer_sizes': (256,), 'activation': 'tanh', 'solver': 'adam', 'alpha': 0.0017027959066098107, 'learning_rate_init': 1.1185877357390598e-05, 'dropout': 0.20271544576051137}. Best is trial 0 with value: 0.9291596226100779.\n",
      "/sci/home/rsrs1302/.conda/envs/env/lib/python3.11/site-packages/optuna/distributions.py:524: UserWarning: Choices for a categorical distribution should be a tuple of None, bool, int, float and str for persistent storage but contains (64,) which is of type tuple.\n",
      "  warnings.warn(message)\n",
      "/sci/home/rsrs1302/.conda/envs/env/lib/python3.11/site-packages/optuna/distributions.py:524: UserWarning: Choices for a categorical distribution should be a tuple of None, bool, int, float and str for persistent storage but contains (128,) which is of type tuple.\n",
      "  warnings.warn(message)\n",
      "/sci/home/rsrs1302/.conda/envs/env/lib/python3.11/site-packages/optuna/distributions.py:524: UserWarning: Choices for a categorical distribution should be a tuple of None, bool, int, float and str for persistent storage but contains (256,) which is of type tuple.\n",
      "  warnings.warn(message)\n",
      "/sci/home/rsrs1302/.conda/envs/env/lib/python3.11/site-packages/optuna/distributions.py:524: UserWarning: Choices for a categorical distribution should be a tuple of None, bool, int, float and str for persistent storage but contains (64, 32) which is of type tuple.\n",
      "  warnings.warn(message)\n",
      "/sci/home/rsrs1302/.conda/envs/env/lib/python3.11/site-packages/optuna/distributions.py:524: UserWarning: Choices for a categorical distribution should be a tuple of None, bool, int, float and str for persistent storage but contains (128, 64) which is of type tuple.\n",
      "  warnings.warn(message)\n",
      "/sci/home/rsrs1302/.conda/envs/env/lib/python3.11/site-packages/optuna/distributions.py:524: UserWarning: Choices for a categorical distribution should be a tuple of None, bool, int, float and str for persistent storage but contains (256, 128, 64) which is of type tuple.\n",
      "  warnings.warn(message)\n",
      "/sci/home/rsrs1302/.conda/envs/env/lib/python3.11/site-packages/optuna/distributions.py:524: UserWarning: Choices for a categorical distribution should be a tuple of None, bool, int, float and str for persistent storage but contains (256, 128, 64, 32) which is of type tuple.\n",
      "  warnings.warn(message)\n",
      "/tmp/ipykernel_119352/2329270089.py:16: FutureWarning: suggest_loguniform has been deprecated in v3.0.0. This feature will be removed in v6.0.0. See https://github.com/optuna/optuna/releases/tag/v3.0.0. Use suggest_float(..., log=True) instead.\n",
      "  alpha = trial.suggest_loguniform('alpha', 1e-5, 1e-2)\n",
      "/tmp/ipykernel_119352/2329270089.py:17: FutureWarning: suggest_loguniform has been deprecated in v3.0.0. This feature will be removed in v6.0.0. See https://github.com/optuna/optuna/releases/tag/v3.0.0. Use suggest_float(..., log=True) instead.\n",
      "  learning_rate_init = trial.suggest_loguniform('learning_rate_init', 1e-5, 1e-2)\n",
      "[I 2024-09-15 19:30:48,011] Trial 9 finished with value: 0.9328937551765799 and parameters: {'hidden_layer_sizes': (256, 128, 64), 'activation': 'relu', 'solver': 'sgd', 'alpha': 0.0002631861862795356, 'learning_rate_init': 0.001405637254667981, 'dropout': 0.35446488938390097}. Best is trial 9 with value: 0.9328937551765799.\n",
      "/sci/home/rsrs1302/.conda/envs/env/lib/python3.11/site-packages/optuna/distributions.py:524: UserWarning: Choices for a categorical distribution should be a tuple of None, bool, int, float and str for persistent storage but contains (64,) which is of type tuple.\n",
      "  warnings.warn(message)\n",
      "/sci/home/rsrs1302/.conda/envs/env/lib/python3.11/site-packages/optuna/distributions.py:524: UserWarning: Choices for a categorical distribution should be a tuple of None, bool, int, float and str for persistent storage but contains (128,) which is of type tuple.\n",
      "  warnings.warn(message)\n",
      "/sci/home/rsrs1302/.conda/envs/env/lib/python3.11/site-packages/optuna/distributions.py:524: UserWarning: Choices for a categorical distribution should be a tuple of None, bool, int, float and str for persistent storage but contains (256,) which is of type tuple.\n",
      "  warnings.warn(message)\n",
      "/sci/home/rsrs1302/.conda/envs/env/lib/python3.11/site-packages/optuna/distributions.py:524: UserWarning: Choices for a categorical distribution should be a tuple of None, bool, int, float and str for persistent storage but contains (64, 32) which is of type tuple.\n",
      "  warnings.warn(message)\n",
      "/sci/home/rsrs1302/.conda/envs/env/lib/python3.11/site-packages/optuna/distributions.py:524: UserWarning: Choices for a categorical distribution should be a tuple of None, bool, int, float and str for persistent storage but contains (128, 64) which is of type tuple.\n",
      "  warnings.warn(message)\n",
      "/sci/home/rsrs1302/.conda/envs/env/lib/python3.11/site-packages/optuna/distributions.py:524: UserWarning: Choices for a categorical distribution should be a tuple of None, bool, int, float and str for persistent storage but contains (256, 128, 64) which is of type tuple.\n",
      "  warnings.warn(message)\n",
      "/sci/home/rsrs1302/.conda/envs/env/lib/python3.11/site-packages/optuna/distributions.py:524: UserWarning: Choices for a categorical distribution should be a tuple of None, bool, int, float and str for persistent storage but contains (256, 128, 64, 32) which is of type tuple.\n",
      "  warnings.warn(message)\n",
      "/tmp/ipykernel_119352/2329270089.py:16: FutureWarning: suggest_loguniform has been deprecated in v3.0.0. This feature will be removed in v6.0.0. See https://github.com/optuna/optuna/releases/tag/v3.0.0. Use suggest_float(..., log=True) instead.\n",
      "  alpha = trial.suggest_loguniform('alpha', 1e-5, 1e-2)\n",
      "/tmp/ipykernel_119352/2329270089.py:17: FutureWarning: suggest_loguniform has been deprecated in v3.0.0. This feature will be removed in v6.0.0. See https://github.com/optuna/optuna/releases/tag/v3.0.0. Use suggest_float(..., log=True) instead.\n",
      "  learning_rate_init = trial.suggest_loguniform('learning_rate_init', 1e-5, 1e-2)\n",
      "[I 2024-09-15 19:32:07,688] Trial 10 finished with value: 0.932012961687175 and parameters: {'hidden_layer_sizes': (256, 128, 64), 'activation': 'relu', 'solver': 'adam', 'alpha': 0.0001481429783160351, 'learning_rate_init': 0.009413521431896603, 'dropout': 0.006557775801193155}. Best is trial 9 with value: 0.9328937551765799.\n",
      "/sci/home/rsrs1302/.conda/envs/env/lib/python3.11/site-packages/optuna/distributions.py:524: UserWarning: Choices for a categorical distribution should be a tuple of None, bool, int, float and str for persistent storage but contains (64,) which is of type tuple.\n",
      "  warnings.warn(message)\n",
      "/sci/home/rsrs1302/.conda/envs/env/lib/python3.11/site-packages/optuna/distributions.py:524: UserWarning: Choices for a categorical distribution should be a tuple of None, bool, int, float and str for persistent storage but contains (128,) which is of type tuple.\n",
      "  warnings.warn(message)\n",
      "/sci/home/rsrs1302/.conda/envs/env/lib/python3.11/site-packages/optuna/distributions.py:524: UserWarning: Choices for a categorical distribution should be a tuple of None, bool, int, float and str for persistent storage but contains (256,) which is of type tuple.\n",
      "  warnings.warn(message)\n",
      "/sci/home/rsrs1302/.conda/envs/env/lib/python3.11/site-packages/optuna/distributions.py:524: UserWarning: Choices for a categorical distribution should be a tuple of None, bool, int, float and str for persistent storage but contains (64, 32) which is of type tuple.\n",
      "  warnings.warn(message)\n",
      "/sci/home/rsrs1302/.conda/envs/env/lib/python3.11/site-packages/optuna/distributions.py:524: UserWarning: Choices for a categorical distribution should be a tuple of None, bool, int, float and str for persistent storage but contains (128, 64) which is of type tuple.\n",
      "  warnings.warn(message)\n",
      "/sci/home/rsrs1302/.conda/envs/env/lib/python3.11/site-packages/optuna/distributions.py:524: UserWarning: Choices for a categorical distribution should be a tuple of None, bool, int, float and str for persistent storage but contains (256, 128, 64) which is of type tuple.\n",
      "  warnings.warn(message)\n",
      "/sci/home/rsrs1302/.conda/envs/env/lib/python3.11/site-packages/optuna/distributions.py:524: UserWarning: Choices for a categorical distribution should be a tuple of None, bool, int, float and str for persistent storage but contains (256, 128, 64, 32) which is of type tuple.\n",
      "  warnings.warn(message)\n",
      "/tmp/ipykernel_119352/2329270089.py:16: FutureWarning: suggest_loguniform has been deprecated in v3.0.0. This feature will be removed in v6.0.0. See https://github.com/optuna/optuna/releases/tag/v3.0.0. Use suggest_float(..., log=True) instead.\n",
      "  alpha = trial.suggest_loguniform('alpha', 1e-5, 1e-2)\n",
      "/tmp/ipykernel_119352/2329270089.py:17: FutureWarning: suggest_loguniform has been deprecated in v3.0.0. This feature will be removed in v6.0.0. See https://github.com/optuna/optuna/releases/tag/v3.0.0. Use suggest_float(..., log=True) instead.\n",
      "  learning_rate_init = trial.suggest_loguniform('learning_rate_init', 1e-5, 1e-2)\n",
      "[I 2024-09-15 19:33:45,424] Trial 11 finished with value: 0.9294083317096927 and parameters: {'hidden_layer_sizes': (256, 128, 64), 'activation': 'relu', 'solver': 'adam', 'alpha': 0.00012282334378732284, 'learning_rate_init': 0.008592879754618256, 'dropout': 0.017438374417870828}. Best is trial 9 with value: 0.9328937551765799.\n",
      "/sci/home/rsrs1302/.conda/envs/env/lib/python3.11/site-packages/optuna/distributions.py:524: UserWarning: Choices for a categorical distribution should be a tuple of None, bool, int, float and str for persistent storage but contains (64,) which is of type tuple.\n",
      "  warnings.warn(message)\n",
      "/sci/home/rsrs1302/.conda/envs/env/lib/python3.11/site-packages/optuna/distributions.py:524: UserWarning: Choices for a categorical distribution should be a tuple of None, bool, int, float and str for persistent storage but contains (128,) which is of type tuple.\n",
      "  warnings.warn(message)\n",
      "/sci/home/rsrs1302/.conda/envs/env/lib/python3.11/site-packages/optuna/distributions.py:524: UserWarning: Choices for a categorical distribution should be a tuple of None, bool, int, float and str for persistent storage but contains (256,) which is of type tuple.\n",
      "  warnings.warn(message)\n",
      "/sci/home/rsrs1302/.conda/envs/env/lib/python3.11/site-packages/optuna/distributions.py:524: UserWarning: Choices for a categorical distribution should be a tuple of None, bool, int, float and str for persistent storage but contains (64, 32) which is of type tuple.\n",
      "  warnings.warn(message)\n",
      "/sci/home/rsrs1302/.conda/envs/env/lib/python3.11/site-packages/optuna/distributions.py:524: UserWarning: Choices for a categorical distribution should be a tuple of None, bool, int, float and str for persistent storage but contains (128, 64) which is of type tuple.\n",
      "  warnings.warn(message)\n",
      "/sci/home/rsrs1302/.conda/envs/env/lib/python3.11/site-packages/optuna/distributions.py:524: UserWarning: Choices for a categorical distribution should be a tuple of None, bool, int, float and str for persistent storage but contains (256, 128, 64) which is of type tuple.\n",
      "  warnings.warn(message)\n",
      "/sci/home/rsrs1302/.conda/envs/env/lib/python3.11/site-packages/optuna/distributions.py:524: UserWarning: Choices for a categorical distribution should be a tuple of None, bool, int, float and str for persistent storage but contains (256, 128, 64, 32) which is of type tuple.\n",
      "  warnings.warn(message)\n",
      "/tmp/ipykernel_119352/2329270089.py:16: FutureWarning: suggest_loguniform has been deprecated in v3.0.0. This feature will be removed in v6.0.0. See https://github.com/optuna/optuna/releases/tag/v3.0.0. Use suggest_float(..., log=True) instead.\n",
      "  alpha = trial.suggest_loguniform('alpha', 1e-5, 1e-2)\n",
      "/tmp/ipykernel_119352/2329270089.py:17: FutureWarning: suggest_loguniform has been deprecated in v3.0.0. This feature will be removed in v6.0.0. See https://github.com/optuna/optuna/releases/tag/v3.0.0. Use suggest_float(..., log=True) instead.\n",
      "  learning_rate_init = trial.suggest_loguniform('learning_rate_init', 1e-5, 1e-2)\n",
      "[I 2024-09-15 19:35:11,499] Trial 12 finished with value: 0.9316706640377921 and parameters: {'hidden_layer_sizes': (256, 128, 64), 'activation': 'relu', 'solver': 'adam', 'alpha': 0.00015682977503003644, 'learning_rate_init': 0.009898289520038475, 'dropout': 0.3345958703412084}. Best is trial 9 with value: 0.9328937551765799.\n",
      "/sci/home/rsrs1302/.conda/envs/env/lib/python3.11/site-packages/optuna/distributions.py:524: UserWarning: Choices for a categorical distribution should be a tuple of None, bool, int, float and str for persistent storage but contains (64,) which is of type tuple.\n",
      "  warnings.warn(message)\n",
      "/sci/home/rsrs1302/.conda/envs/env/lib/python3.11/site-packages/optuna/distributions.py:524: UserWarning: Choices for a categorical distribution should be a tuple of None, bool, int, float and str for persistent storage but contains (128,) which is of type tuple.\n",
      "  warnings.warn(message)\n",
      "/sci/home/rsrs1302/.conda/envs/env/lib/python3.11/site-packages/optuna/distributions.py:524: UserWarning: Choices for a categorical distribution should be a tuple of None, bool, int, float and str for persistent storage but contains (256,) which is of type tuple.\n",
      "  warnings.warn(message)\n",
      "/sci/home/rsrs1302/.conda/envs/env/lib/python3.11/site-packages/optuna/distributions.py:524: UserWarning: Choices for a categorical distribution should be a tuple of None, bool, int, float and str for persistent storage but contains (64, 32) which is of type tuple.\n",
      "  warnings.warn(message)\n",
      "/sci/home/rsrs1302/.conda/envs/env/lib/python3.11/site-packages/optuna/distributions.py:524: UserWarning: Choices for a categorical distribution should be a tuple of None, bool, int, float and str for persistent storage but contains (128, 64) which is of type tuple.\n",
      "  warnings.warn(message)\n",
      "/sci/home/rsrs1302/.conda/envs/env/lib/python3.11/site-packages/optuna/distributions.py:524: UserWarning: Choices for a categorical distribution should be a tuple of None, bool, int, float and str for persistent storage but contains (256, 128, 64) which is of type tuple.\n",
      "  warnings.warn(message)\n",
      "/sci/home/rsrs1302/.conda/envs/env/lib/python3.11/site-packages/optuna/distributions.py:524: UserWarning: Choices for a categorical distribution should be a tuple of None, bool, int, float and str for persistent storage but contains (256, 128, 64, 32) which is of type tuple.\n",
      "  warnings.warn(message)\n",
      "/tmp/ipykernel_119352/2329270089.py:16: FutureWarning: suggest_loguniform has been deprecated in v3.0.0. This feature will be removed in v6.0.0. See https://github.com/optuna/optuna/releases/tag/v3.0.0. Use suggest_float(..., log=True) instead.\n",
      "  alpha = trial.suggest_loguniform('alpha', 1e-5, 1e-2)\n",
      "/tmp/ipykernel_119352/2329270089.py:17: FutureWarning: suggest_loguniform has been deprecated in v3.0.0. This feature will be removed in v6.0.0. See https://github.com/optuna/optuna/releases/tag/v3.0.0. Use suggest_float(..., log=True) instead.\n",
      "  learning_rate_init = trial.suggest_loguniform('learning_rate_init', 1e-5, 1e-2)\n",
      "[I 2024-09-15 19:35:41,614] Trial 13 finished with value: 0.9324841566587314 and parameters: {'hidden_layer_sizes': (128,), 'activation': 'relu', 'solver': 'adam', 'alpha': 5.70364960503575e-05, 'learning_rate_init': 0.004144007472029656, 'dropout': 0.3216637974495614}. Best is trial 9 with value: 0.9328937551765799.\n",
      "/sci/home/rsrs1302/.conda/envs/env/lib/python3.11/site-packages/optuna/distributions.py:524: UserWarning: Choices for a categorical distribution should be a tuple of None, bool, int, float and str for persistent storage but contains (64,) which is of type tuple.\n",
      "  warnings.warn(message)\n",
      "/sci/home/rsrs1302/.conda/envs/env/lib/python3.11/site-packages/optuna/distributions.py:524: UserWarning: Choices for a categorical distribution should be a tuple of None, bool, int, float and str for persistent storage but contains (128,) which is of type tuple.\n",
      "  warnings.warn(message)\n",
      "/sci/home/rsrs1302/.conda/envs/env/lib/python3.11/site-packages/optuna/distributions.py:524: UserWarning: Choices for a categorical distribution should be a tuple of None, bool, int, float and str for persistent storage but contains (256,) which is of type tuple.\n",
      "  warnings.warn(message)\n",
      "/sci/home/rsrs1302/.conda/envs/env/lib/python3.11/site-packages/optuna/distributions.py:524: UserWarning: Choices for a categorical distribution should be a tuple of None, bool, int, float and str for persistent storage but contains (64, 32) which is of type tuple.\n",
      "  warnings.warn(message)\n",
      "/sci/home/rsrs1302/.conda/envs/env/lib/python3.11/site-packages/optuna/distributions.py:524: UserWarning: Choices for a categorical distribution should be a tuple of None, bool, int, float and str for persistent storage but contains (128, 64) which is of type tuple.\n",
      "  warnings.warn(message)\n",
      "/sci/home/rsrs1302/.conda/envs/env/lib/python3.11/site-packages/optuna/distributions.py:524: UserWarning: Choices for a categorical distribution should be a tuple of None, bool, int, float and str for persistent storage but contains (256, 128, 64) which is of type tuple.\n",
      "  warnings.warn(message)\n",
      "/sci/home/rsrs1302/.conda/envs/env/lib/python3.11/site-packages/optuna/distributions.py:524: UserWarning: Choices for a categorical distribution should be a tuple of None, bool, int, float and str for persistent storage but contains (256, 128, 64, 32) which is of type tuple.\n",
      "  warnings.warn(message)\n",
      "/tmp/ipykernel_119352/2329270089.py:16: FutureWarning: suggest_loguniform has been deprecated in v3.0.0. This feature will be removed in v6.0.0. See https://github.com/optuna/optuna/releases/tag/v3.0.0. Use suggest_float(..., log=True) instead.\n",
      "  alpha = trial.suggest_loguniform('alpha', 1e-5, 1e-2)\n",
      "/tmp/ipykernel_119352/2329270089.py:17: FutureWarning: suggest_loguniform has been deprecated in v3.0.0. This feature will be removed in v6.0.0. See https://github.com/optuna/optuna/releases/tag/v3.0.0. Use suggest_float(..., log=True) instead.\n",
      "  learning_rate_init = trial.suggest_loguniform('learning_rate_init', 1e-5, 1e-2)\n",
      "/sci/home/rsrs1302/.conda/envs/env/lib/python3.11/site-packages/sklearn/neural_network/_multilayer_perceptron.py:690: ConvergenceWarning: Stochastic Optimizer: Maximum iterations (100) reached and the optimization hasn't converged yet.\n",
      "  warnings.warn(\n",
      "[I 2024-09-15 19:37:44,283] Trial 14 finished with value: 0.9354057779108014 and parameters: {'hidden_layer_sizes': (128,), 'activation': 'relu', 'solver': 'sgd', 'alpha': 4.717970339964433e-05, 'learning_rate_init': 0.0033912504834295934, 'dropout': 0.3231083161229873}. Best is trial 14 with value: 0.9354057779108014.\n",
      "/sci/home/rsrs1302/.conda/envs/env/lib/python3.11/site-packages/optuna/distributions.py:524: UserWarning: Choices for a categorical distribution should be a tuple of None, bool, int, float and str for persistent storage but contains (64,) which is of type tuple.\n",
      "  warnings.warn(message)\n",
      "/sci/home/rsrs1302/.conda/envs/env/lib/python3.11/site-packages/optuna/distributions.py:524: UserWarning: Choices for a categorical distribution should be a tuple of None, bool, int, float and str for persistent storage but contains (128,) which is of type tuple.\n",
      "  warnings.warn(message)\n",
      "/sci/home/rsrs1302/.conda/envs/env/lib/python3.11/site-packages/optuna/distributions.py:524: UserWarning: Choices for a categorical distribution should be a tuple of None, bool, int, float and str for persistent storage but contains (256,) which is of type tuple.\n",
      "  warnings.warn(message)\n",
      "/sci/home/rsrs1302/.conda/envs/env/lib/python3.11/site-packages/optuna/distributions.py:524: UserWarning: Choices for a categorical distribution should be a tuple of None, bool, int, float and str for persistent storage but contains (64, 32) which is of type tuple.\n",
      "  warnings.warn(message)\n",
      "/sci/home/rsrs1302/.conda/envs/env/lib/python3.11/site-packages/optuna/distributions.py:524: UserWarning: Choices for a categorical distribution should be a tuple of None, bool, int, float and str for persistent storage but contains (128, 64) which is of type tuple.\n",
      "  warnings.warn(message)\n",
      "/sci/home/rsrs1302/.conda/envs/env/lib/python3.11/site-packages/optuna/distributions.py:524: UserWarning: Choices for a categorical distribution should be a tuple of None, bool, int, float and str for persistent storage but contains (256, 128, 64) which is of type tuple.\n",
      "  warnings.warn(message)\n",
      "/sci/home/rsrs1302/.conda/envs/env/lib/python3.11/site-packages/optuna/distributions.py:524: UserWarning: Choices for a categorical distribution should be a tuple of None, bool, int, float and str for persistent storage but contains (256, 128, 64, 32) which is of type tuple.\n",
      "  warnings.warn(message)\n",
      "/tmp/ipykernel_119352/2329270089.py:16: FutureWarning: suggest_loguniform has been deprecated in v3.0.0. This feature will be removed in v6.0.0. See https://github.com/optuna/optuna/releases/tag/v3.0.0. Use suggest_float(..., log=True) instead.\n",
      "  alpha = trial.suggest_loguniform('alpha', 1e-5, 1e-2)\n",
      "/tmp/ipykernel_119352/2329270089.py:17: FutureWarning: suggest_loguniform has been deprecated in v3.0.0. This feature will be removed in v6.0.0. See https://github.com/optuna/optuna/releases/tag/v3.0.0. Use suggest_float(..., log=True) instead.\n",
      "  learning_rate_init = trial.suggest_loguniform('learning_rate_init', 1e-5, 1e-2)\n",
      "/sci/home/rsrs1302/.conda/envs/env/lib/python3.11/site-packages/sklearn/neural_network/_multilayer_perceptron.py:690: ConvergenceWarning: Stochastic Optimizer: Maximum iterations (100) reached and the optimization hasn't converged yet.\n",
      "  warnings.warn(\n",
      "[I 2024-09-15 19:39:46,993] Trial 15 finished with value: 0.9150690118545113 and parameters: {'hidden_layer_sizes': (128,), 'activation': 'relu', 'solver': 'sgd', 'alpha': 1.0316533819538799e-05, 'learning_rate_init': 0.0006245837190390328, 'dropout': 0.33222479921502174}. Best is trial 14 with value: 0.9354057779108014.\n",
      "/sci/home/rsrs1302/.conda/envs/env/lib/python3.11/site-packages/optuna/distributions.py:524: UserWarning: Choices for a categorical distribution should be a tuple of None, bool, int, float and str for persistent storage but contains (64,) which is of type tuple.\n",
      "  warnings.warn(message)\n",
      "/sci/home/rsrs1302/.conda/envs/env/lib/python3.11/site-packages/optuna/distributions.py:524: UserWarning: Choices for a categorical distribution should be a tuple of None, bool, int, float and str for persistent storage but contains (128,) which is of type tuple.\n",
      "  warnings.warn(message)\n",
      "/sci/home/rsrs1302/.conda/envs/env/lib/python3.11/site-packages/optuna/distributions.py:524: UserWarning: Choices for a categorical distribution should be a tuple of None, bool, int, float and str for persistent storage but contains (256,) which is of type tuple.\n",
      "  warnings.warn(message)\n",
      "/sci/home/rsrs1302/.conda/envs/env/lib/python3.11/site-packages/optuna/distributions.py:524: UserWarning: Choices for a categorical distribution should be a tuple of None, bool, int, float and str for persistent storage but contains (64, 32) which is of type tuple.\n",
      "  warnings.warn(message)\n",
      "/sci/home/rsrs1302/.conda/envs/env/lib/python3.11/site-packages/optuna/distributions.py:524: UserWarning: Choices for a categorical distribution should be a tuple of None, bool, int, float and str for persistent storage but contains (128, 64) which is of type tuple.\n",
      "  warnings.warn(message)\n",
      "/sci/home/rsrs1302/.conda/envs/env/lib/python3.11/site-packages/optuna/distributions.py:524: UserWarning: Choices for a categorical distribution should be a tuple of None, bool, int, float and str for persistent storage but contains (256, 128, 64) which is of type tuple.\n",
      "  warnings.warn(message)\n",
      "/sci/home/rsrs1302/.conda/envs/env/lib/python3.11/site-packages/optuna/distributions.py:524: UserWarning: Choices for a categorical distribution should be a tuple of None, bool, int, float and str for persistent storage but contains (256, 128, 64, 32) which is of type tuple.\n",
      "  warnings.warn(message)\n",
      "/tmp/ipykernel_119352/2329270089.py:16: FutureWarning: suggest_loguniform has been deprecated in v3.0.0. This feature will be removed in v6.0.0. See https://github.com/optuna/optuna/releases/tag/v3.0.0. Use suggest_float(..., log=True) instead.\n",
      "  alpha = trial.suggest_loguniform('alpha', 1e-5, 1e-2)\n",
      "/tmp/ipykernel_119352/2329270089.py:17: FutureWarning: suggest_loguniform has been deprecated in v3.0.0. This feature will be removed in v6.0.0. See https://github.com/optuna/optuna/releases/tag/v3.0.0. Use suggest_float(..., log=True) instead.\n",
      "  learning_rate_init = trial.suggest_loguniform('learning_rate_init', 1e-5, 1e-2)\n",
      "[I 2024-09-15 19:41:37,995] Trial 16 finished with value: 0.935504389546753 and parameters: {'hidden_layer_sizes': (128,), 'activation': 'relu', 'solver': 'sgd', 'alpha': 0.0002839216649991983, 'learning_rate_init': 0.003111856033353615, 'dropout': 0.3742888662684992}. Best is trial 16 with value: 0.935504389546753.\n",
      "/sci/home/rsrs1302/.conda/envs/env/lib/python3.11/site-packages/optuna/distributions.py:524: UserWarning: Choices for a categorical distribution should be a tuple of None, bool, int, float and str for persistent storage but contains (64,) which is of type tuple.\n",
      "  warnings.warn(message)\n",
      "/sci/home/rsrs1302/.conda/envs/env/lib/python3.11/site-packages/optuna/distributions.py:524: UserWarning: Choices for a categorical distribution should be a tuple of None, bool, int, float and str for persistent storage but contains (128,) which is of type tuple.\n",
      "  warnings.warn(message)\n",
      "/sci/home/rsrs1302/.conda/envs/env/lib/python3.11/site-packages/optuna/distributions.py:524: UserWarning: Choices for a categorical distribution should be a tuple of None, bool, int, float and str for persistent storage but contains (256,) which is of type tuple.\n",
      "  warnings.warn(message)\n",
      "/sci/home/rsrs1302/.conda/envs/env/lib/python3.11/site-packages/optuna/distributions.py:524: UserWarning: Choices for a categorical distribution should be a tuple of None, bool, int, float and str for persistent storage but contains (64, 32) which is of type tuple.\n",
      "  warnings.warn(message)\n",
      "/sci/home/rsrs1302/.conda/envs/env/lib/python3.11/site-packages/optuna/distributions.py:524: UserWarning: Choices for a categorical distribution should be a tuple of None, bool, int, float and str for persistent storage but contains (128, 64) which is of type tuple.\n",
      "  warnings.warn(message)\n",
      "/sci/home/rsrs1302/.conda/envs/env/lib/python3.11/site-packages/optuna/distributions.py:524: UserWarning: Choices for a categorical distribution should be a tuple of None, bool, int, float and str for persistent storage but contains (256, 128, 64) which is of type tuple.\n",
      "  warnings.warn(message)\n",
      "/sci/home/rsrs1302/.conda/envs/env/lib/python3.11/site-packages/optuna/distributions.py:524: UserWarning: Choices for a categorical distribution should be a tuple of None, bool, int, float and str for persistent storage but contains (256, 128, 64, 32) which is of type tuple.\n",
      "  warnings.warn(message)\n",
      "/tmp/ipykernel_119352/2329270089.py:16: FutureWarning: suggest_loguniform has been deprecated in v3.0.0. This feature will be removed in v6.0.0. See https://github.com/optuna/optuna/releases/tag/v3.0.0. Use suggest_float(..., log=True) instead.\n",
      "  alpha = trial.suggest_loguniform('alpha', 1e-5, 1e-2)\n",
      "/tmp/ipykernel_119352/2329270089.py:17: FutureWarning: suggest_loguniform has been deprecated in v3.0.0. This feature will be removed in v6.0.0. See https://github.com/optuna/optuna/releases/tag/v3.0.0. Use suggest_float(..., log=True) instead.\n",
      "  learning_rate_init = trial.suggest_loguniform('learning_rate_init', 1e-5, 1e-2)\n",
      "[I 2024-09-15 19:43:21,011] Trial 17 finished with value: 0.9352467675844212 and parameters: {'hidden_layer_sizes': (128,), 'activation': 'relu', 'solver': 'sgd', 'alpha': 0.006738938475445676, 'learning_rate_init': 0.0037070582394613015, 'dropout': 0.26955205636254276}. Best is trial 16 with value: 0.935504389546753.\n",
      "/sci/home/rsrs1302/.conda/envs/env/lib/python3.11/site-packages/optuna/distributions.py:524: UserWarning: Choices for a categorical distribution should be a tuple of None, bool, int, float and str for persistent storage but contains (64,) which is of type tuple.\n",
      "  warnings.warn(message)\n",
      "/sci/home/rsrs1302/.conda/envs/env/lib/python3.11/site-packages/optuna/distributions.py:524: UserWarning: Choices for a categorical distribution should be a tuple of None, bool, int, float and str for persistent storage but contains (128,) which is of type tuple.\n",
      "  warnings.warn(message)\n",
      "/sci/home/rsrs1302/.conda/envs/env/lib/python3.11/site-packages/optuna/distributions.py:524: UserWarning: Choices for a categorical distribution should be a tuple of None, bool, int, float and str for persistent storage but contains (256,) which is of type tuple.\n",
      "  warnings.warn(message)\n",
      "/sci/home/rsrs1302/.conda/envs/env/lib/python3.11/site-packages/optuna/distributions.py:524: UserWarning: Choices for a categorical distribution should be a tuple of None, bool, int, float and str for persistent storage but contains (64, 32) which is of type tuple.\n",
      "  warnings.warn(message)\n",
      "/sci/home/rsrs1302/.conda/envs/env/lib/python3.11/site-packages/optuna/distributions.py:524: UserWarning: Choices for a categorical distribution should be a tuple of None, bool, int, float and str for persistent storage but contains (128, 64) which is of type tuple.\n",
      "  warnings.warn(message)\n",
      "/sci/home/rsrs1302/.conda/envs/env/lib/python3.11/site-packages/optuna/distributions.py:524: UserWarning: Choices for a categorical distribution should be a tuple of None, bool, int, float and str for persistent storage but contains (256, 128, 64) which is of type tuple.\n",
      "  warnings.warn(message)\n",
      "/sci/home/rsrs1302/.conda/envs/env/lib/python3.11/site-packages/optuna/distributions.py:524: UserWarning: Choices for a categorical distribution should be a tuple of None, bool, int, float and str for persistent storage but contains (256, 128, 64, 32) which is of type tuple.\n",
      "  warnings.warn(message)\n",
      "/tmp/ipykernel_119352/2329270089.py:16: FutureWarning: suggest_loguniform has been deprecated in v3.0.0. This feature will be removed in v6.0.0. See https://github.com/optuna/optuna/releases/tag/v3.0.0. Use suggest_float(..., log=True) instead.\n",
      "  alpha = trial.suggest_loguniform('alpha', 1e-5, 1e-2)\n",
      "/tmp/ipykernel_119352/2329270089.py:17: FutureWarning: suggest_loguniform has been deprecated in v3.0.0. This feature will be removed in v6.0.0. See https://github.com/optuna/optuna/releases/tag/v3.0.0. Use suggest_float(..., log=True) instead.\n",
      "  learning_rate_init = trial.suggest_loguniform('learning_rate_init', 1e-5, 1e-2)\n",
      "/sci/home/rsrs1302/.conda/envs/env/lib/python3.11/site-packages/sklearn/neural_network/_multilayer_perceptron.py:690: ConvergenceWarning: Stochastic Optimizer: Maximum iterations (100) reached and the optimization hasn't converged yet.\n",
      "  warnings.warn(\n",
      "[I 2024-09-15 19:45:23,015] Trial 18 finished with value: 0.8751409517622097 and parameters: {'hidden_layer_sizes': (128,), 'activation': 'relu', 'solver': 'sgd', 'alpha': 4.6765523774277765e-05, 'learning_rate_init': 7.670276950550866e-05, 'dropout': 0.3903149831885685}. Best is trial 16 with value: 0.935504389546753.\n",
      "/sci/home/rsrs1302/.conda/envs/env/lib/python3.11/site-packages/optuna/distributions.py:524: UserWarning: Choices for a categorical distribution should be a tuple of None, bool, int, float and str for persistent storage but contains (64,) which is of type tuple.\n",
      "  warnings.warn(message)\n",
      "/sci/home/rsrs1302/.conda/envs/env/lib/python3.11/site-packages/optuna/distributions.py:524: UserWarning: Choices for a categorical distribution should be a tuple of None, bool, int, float and str for persistent storage but contains (128,) which is of type tuple.\n",
      "  warnings.warn(message)\n",
      "/sci/home/rsrs1302/.conda/envs/env/lib/python3.11/site-packages/optuna/distributions.py:524: UserWarning: Choices for a categorical distribution should be a tuple of None, bool, int, float and str for persistent storage but contains (256,) which is of type tuple.\n",
      "  warnings.warn(message)\n",
      "/sci/home/rsrs1302/.conda/envs/env/lib/python3.11/site-packages/optuna/distributions.py:524: UserWarning: Choices for a categorical distribution should be a tuple of None, bool, int, float and str for persistent storage but contains (64, 32) which is of type tuple.\n",
      "  warnings.warn(message)\n",
      "/sci/home/rsrs1302/.conda/envs/env/lib/python3.11/site-packages/optuna/distributions.py:524: UserWarning: Choices for a categorical distribution should be a tuple of None, bool, int, float and str for persistent storage but contains (128, 64) which is of type tuple.\n",
      "  warnings.warn(message)\n",
      "/sci/home/rsrs1302/.conda/envs/env/lib/python3.11/site-packages/optuna/distributions.py:524: UserWarning: Choices for a categorical distribution should be a tuple of None, bool, int, float and str for persistent storage but contains (256, 128, 64) which is of type tuple.\n",
      "  warnings.warn(message)\n",
      "/sci/home/rsrs1302/.conda/envs/env/lib/python3.11/site-packages/optuna/distributions.py:524: UserWarning: Choices for a categorical distribution should be a tuple of None, bool, int, float and str for persistent storage but contains (256, 128, 64, 32) which is of type tuple.\n",
      "  warnings.warn(message)\n",
      "/tmp/ipykernel_119352/2329270089.py:16: FutureWarning: suggest_loguniform has been deprecated in v3.0.0. This feature will be removed in v6.0.0. See https://github.com/optuna/optuna/releases/tag/v3.0.0. Use suggest_float(..., log=True) instead.\n",
      "  alpha = trial.suggest_loguniform('alpha', 1e-5, 1e-2)\n",
      "/tmp/ipykernel_119352/2329270089.py:17: FutureWarning: suggest_loguniform has been deprecated in v3.0.0. This feature will be removed in v6.0.0. See https://github.com/optuna/optuna/releases/tag/v3.0.0. Use suggest_float(..., log=True) instead.\n",
      "  learning_rate_init = trial.suggest_loguniform('learning_rate_init', 1e-5, 1e-2)\n",
      "/sci/home/rsrs1302/.conda/envs/env/lib/python3.11/site-packages/sklearn/neural_network/_multilayer_perceptron.py:690: ConvergenceWarning: Stochastic Optimizer: Maximum iterations (100) reached and the optimization hasn't converged yet.\n",
      "  warnings.warn(\n",
      "[I 2024-09-15 19:47:25,502] Trial 19 finished with value: 0.9133952582534789 and parameters: {'hidden_layer_sizes': (128,), 'activation': 'relu', 'solver': 'sgd', 'alpha': 0.0003035901549481542, 'learning_rate_init': 0.0005377756734493731, 'dropout': 0.2865411219990796}. Best is trial 16 with value: 0.935504389546753.\n"
     ]
    },
    {
     "name": "stdout",
     "output_type": "stream",
     "text": [
      "Best MLP Hyperparameters: {'hidden_layer_sizes': (128,), 'activation': 'relu', 'solver': 'sgd', 'alpha': 0.0002839216649991983, 'learning_rate_init': 0.003111856033353615, 'dropout': 0.3742888662684992}\n"
     ]
    },
    {
     "ename": "ModuleNotFoundError",
     "evalue": "No module named 'ace_tools'",
     "output_type": "error",
     "traceback": [
      "\u001b[0;31m---------------------------------------------------------------------------\u001b[0m",
      "\u001b[0;31mModuleNotFoundError\u001b[0m                       Traceback (most recent call last)",
      "Cell \u001b[0;32mIn[4], line 74\u001b[0m\n\u001b[1;32m     71\u001b[0m results_df \u001b[38;5;241m=\u001b[39m pd\u001b[38;5;241m.\u001b[39mDataFrame(trial_results)\n\u001b[1;32m     73\u001b[0m \u001b[38;5;66;03m# Display the table of results\u001b[39;00m\n\u001b[0;32m---> 74\u001b[0m \u001b[38;5;28;01mimport\u001b[39;00m \u001b[38;5;21;01mace_tools\u001b[39;00m \u001b[38;5;28;01mas\u001b[39;00m \u001b[38;5;21;01mtools\u001b[39;00m; tools\u001b[38;5;241m.\u001b[39mdisplay_dataframe_to_user(name\u001b[38;5;241m=\u001b[39m\u001b[38;5;124m\"\u001b[39m\u001b[38;5;124mMLP Hyperparameter Tuning Results\u001b[39m\u001b[38;5;124m\"\u001b[39m, dataframe\u001b[38;5;241m=\u001b[39mresults_df)\n\u001b[1;32m     76\u001b[0m \u001b[38;5;66;03m# Plot optimization history\u001b[39;00m\n\u001b[1;32m     77\u001b[0m optuna\u001b[38;5;241m.\u001b[39mvisualization\u001b[38;5;241m.\u001b[39mplot_optimization_history(study_mlp)\n",
      "\u001b[0;31mModuleNotFoundError\u001b[0m: No module named 'ace_tools'"
     ]
    }
   ],
   "source": [
    "import optuna\n",
    "import pandas as pd\n",
    "import matplotlib.pyplot as plt\n",
    "from sklearn.metrics import roc_auc_score, accuracy_score, precision_score, recall_score, f1_score\n",
    "from sklearn.neural_network import MLPClassifier\n",
    "\n",
    "# Initialize a list to store the results\n",
    "trial_results = []\n",
    "\n",
    "# MLP Hyperparameter Tuning\n",
    "def objective_mlp(trial):\n",
    "    # Hyperparameters for tuning\n",
    "    hidden_layer_sizes = trial.suggest_categorical('hidden_layer_sizes', [(64,), (128,), (256,), (64, 32), (128, 64), (256, 128, 64), (256, 128, 64, 32)])\n",
    "    activation = trial.suggest_categorical('activation', ['relu', 'tanh'])\n",
    "    solver = trial.suggest_categorical('solver', ['adam', 'sgd'])\n",
    "    alpha = trial.suggest_loguniform('alpha', 1e-5, 1e-2)\n",
    "    learning_rate_init = trial.suggest_loguniform('learning_rate_init', 1e-5, 1e-2)\n",
    "    dropout = trial.suggest_float('dropout', 0.0, 0.5)\n",
    "\n",
    "    # MLP model with dropout option\n",
    "    mlp = MLPClassifier(\n",
    "        hidden_layer_sizes=hidden_layer_sizes,\n",
    "        activation=activation,\n",
    "        solver=solver,\n",
    "        alpha=alpha,\n",
    "        learning_rate_init=learning_rate_init,\n",
    "        max_iter=100,\n",
    "        early_stopping=True\n",
    "    )\n",
    "\n",
    "    # Training the MLP\n",
    "    mlp.fit(X_train_opt, y_train_opt)\n",
    "    y_valid_pred = mlp.predict(X_valid_opt)\n",
    "    y_valid_proba = mlp.predict_proba(X_valid_opt)[:, 1]\n",
    "\n",
    "    # Calculate metrics\n",
    "    auc_valid = roc_auc_score(y_valid_opt, y_valid_proba)\n",
    "    accuracy = accuracy_score(y_valid_opt, y_valid_pred)\n",
    "    precision = precision_score(y_valid_opt, y_valid_pred)\n",
    "    recall = recall_score(y_valid_opt, y_valid_pred)\n",
    "    f1 = f1_score(y_valid_opt, y_valid_pred)\n",
    "\n",
    "    # Store metrics\n",
    "    trial_results.append({\n",
    "        'trial': trial.number,\n",
    "        'hidden_layer_sizes': hidden_layer_sizes,\n",
    "        'activation': activation,\n",
    "        'solver': solver,\n",
    "        'alpha': alpha,\n",
    "        'learning_rate_init': learning_rate_init,\n",
    "        'dropout': dropout,\n",
    "        'AUC': auc_valid,\n",
    "        'Accuracy': accuracy,\n",
    "        'Precision': precision,\n",
    "        'Recall': recall,\n",
    "        'F1 Score': f1\n",
    "    })\n",
    "\n",
    "    return auc_valid\n",
    "\n",
    "# Run Optuna for MLP\n",
    "print(\"Running Optuna for MLP...\")\n",
    "study_mlp = optuna.create_study(direction='maximize')\n",
    "study_mlp.optimize(objective_mlp, n_trials=20)\n",
    "\n",
    "# Best hyperparameters for MLP\n",
    "best_params_mlp = study_mlp.best_trial.params\n",
    "print(f'Best MLP Hyperparameters: {best_params_mlp}')\n",
    "\n",
    "# Convert the results to a DataFrame\n",
    "results_df = pd.DataFrame(trial_results)\n",
    "\n",
    "# Display the table of results\n",
    "import ace_tools as tools; tools.display_dataframe_to_user(name=\"MLP Hyperparameter Tuning Results\", dataframe=results_df)\n",
    "\n",
    "# Plot optimization history\n",
    "optuna.visualization.plot_optimization_history(study_mlp)\n",
    "plt.show()\n",
    "\n",
    "# Plot the parallel coordinate plot for hyperparameters\n",
    "optuna.visualization.plot_parallel_coordinate(study_mlp)\n",
    "plt.show()"
   ]
  },
  {
   "cell_type": "code",
   "execution_count": 12,
   "id": "d7e991fe-42df-43a3-a047-496c6af7a484",
   "metadata": {
    "execution": {
     "iopub.execute_input": "2024-09-15T20:28:14.242955Z",
     "iopub.status.busy": "2024-09-15T20:28:14.242695Z",
     "iopub.status.idle": "2024-09-15T20:28:15.356834Z",
     "shell.execute_reply": "2024-09-15T20:28:15.356454Z",
     "shell.execute_reply.started": "2024-09-15T20:28:14.242940Z"
    }
   },
   "outputs": [
    {
     "data": {
      "text/html": [
       "<div>\n",
       "<style scoped>\n",
       "    .dataframe tbody tr th:only-of-type {\n",
       "        vertical-align: middle;\n",
       "    }\n",
       "\n",
       "    .dataframe tbody tr th {\n",
       "        vertical-align: top;\n",
       "    }\n",
       "\n",
       "    .dataframe thead th {\n",
       "        text-align: right;\n",
       "    }\n",
       "</style>\n",
       "<table border=\"1\" class=\"dataframe\">\n",
       "  <thead>\n",
       "    <tr style=\"text-align: right;\">\n",
       "      <th></th>\n",
       "      <th>trial</th>\n",
       "      <th>hidden_layer_sizes</th>\n",
       "      <th>activation</th>\n",
       "      <th>solver</th>\n",
       "      <th>alpha</th>\n",
       "      <th>learning_rate_init</th>\n",
       "      <th>dropout</th>\n",
       "      <th>AUC</th>\n",
       "      <th>Accuracy</th>\n",
       "      <th>Precision</th>\n",
       "      <th>Recall</th>\n",
       "      <th>F1 Score</th>\n",
       "    </tr>\n",
       "  </thead>\n",
       "  <tbody>\n",
       "    <tr>\n",
       "      <th>0</th>\n",
       "      <td>0</td>\n",
       "      <td>(256, 128, 64, 32)</td>\n",
       "      <td>tanh</td>\n",
       "      <td>sgd</td>\n",
       "      <td>0.000477</td>\n",
       "      <td>0.001741</td>\n",
       "      <td>0.421799</td>\n",
       "      <td>0.929160</td>\n",
       "      <td>0.845196</td>\n",
       "      <td>0.831011</td>\n",
       "      <td>0.897172</td>\n",
       "      <td>0.862825</td>\n",
       "    </tr>\n",
       "    <tr>\n",
       "      <th>1</th>\n",
       "      <td>1</td>\n",
       "      <td>(128, 64)</td>\n",
       "      <td>tanh</td>\n",
       "      <td>adam</td>\n",
       "      <td>0.001001</td>\n",
       "      <td>0.001365</td>\n",
       "      <td>0.456769</td>\n",
       "      <td>0.920994</td>\n",
       "      <td>0.835718</td>\n",
       "      <td>0.815893</td>\n",
       "      <td>0.900449</td>\n",
       "      <td>0.856088</td>\n",
       "    </tr>\n",
       "    <tr>\n",
       "      <th>2</th>\n",
       "      <td>2</td>\n",
       "      <td>(256, 128, 64, 32)</td>\n",
       "      <td>tanh</td>\n",
       "      <td>sgd</td>\n",
       "      <td>0.000024</td>\n",
       "      <td>0.000965</td>\n",
       "      <td>0.179069</td>\n",
       "      <td>0.926252</td>\n",
       "      <td>0.841132</td>\n",
       "      <td>0.827079</td>\n",
       "      <td>0.894194</td>\n",
       "      <td>0.859328</td>\n",
       "    </tr>\n",
       "    <tr>\n",
       "      <th>3</th>\n",
       "      <td>3</td>\n",
       "      <td>(128, 64)</td>\n",
       "      <td>tanh</td>\n",
       "      <td>sgd</td>\n",
       "      <td>0.000952</td>\n",
       "      <td>0.000024</td>\n",
       "      <td>0.471122</td>\n",
       "      <td>0.858626</td>\n",
       "      <td>0.785182</td>\n",
       "      <td>0.774852</td>\n",
       "      <td>0.851578</td>\n",
       "      <td>0.811405</td>\n",
       "    </tr>\n",
       "    <tr>\n",
       "      <th>4</th>\n",
       "      <td>4</td>\n",
       "      <td>(64,)</td>\n",
       "      <td>tanh</td>\n",
       "      <td>adam</td>\n",
       "      <td>0.000669</td>\n",
       "      <td>0.000271</td>\n",
       "      <td>0.220403</td>\n",
       "      <td>0.924608</td>\n",
       "      <td>0.841213</td>\n",
       "      <td>0.828538</td>\n",
       "      <td>0.891981</td>\n",
       "      <td>0.859090</td>\n",
       "    </tr>\n",
       "    <tr>\n",
       "      <th>5</th>\n",
       "      <td>5</td>\n",
       "      <td>(64, 32)</td>\n",
       "      <td>tanh</td>\n",
       "      <td>sgd</td>\n",
       "      <td>0.003655</td>\n",
       "      <td>0.001880</td>\n",
       "      <td>0.477090</td>\n",
       "      <td>0.919270</td>\n",
       "      <td>0.834263</td>\n",
       "      <td>0.811829</td>\n",
       "      <td>0.904151</td>\n",
       "      <td>0.855506</td>\n",
       "    </tr>\n",
       "    <tr>\n",
       "      <th>6</th>\n",
       "      <td>6</td>\n",
       "      <td>(256, 128, 64, 32)</td>\n",
       "      <td>relu</td>\n",
       "      <td>sgd</td>\n",
       "      <td>0.000020</td>\n",
       "      <td>0.000121</td>\n",
       "      <td>0.151523</td>\n",
       "      <td>0.911243</td>\n",
       "      <td>0.825858</td>\n",
       "      <td>0.813462</td>\n",
       "      <td>0.881151</td>\n",
       "      <td>0.845955</td>\n",
       "    </tr>\n",
       "    <tr>\n",
       "      <th>7</th>\n",
       "      <td>7</td>\n",
       "      <td>(256, 128, 64, 32)</td>\n",
       "      <td>tanh</td>\n",
       "      <td>sgd</td>\n",
       "      <td>0.000073</td>\n",
       "      <td>0.000186</td>\n",
       "      <td>0.453023</td>\n",
       "      <td>0.893980</td>\n",
       "      <td>0.804510</td>\n",
       "      <td>0.790584</td>\n",
       "      <td>0.870279</td>\n",
       "      <td>0.828519</td>\n",
       "    </tr>\n",
       "    <tr>\n",
       "      <th>8</th>\n",
       "      <td>8</td>\n",
       "      <td>(256,)</td>\n",
       "      <td>tanh</td>\n",
       "      <td>adam</td>\n",
       "      <td>0.001703</td>\n",
       "      <td>0.000011</td>\n",
       "      <td>0.202715</td>\n",
       "      <td>0.867315</td>\n",
       "      <td>0.786891</td>\n",
       "      <td>0.777370</td>\n",
       "      <td>0.851003</td>\n",
       "      <td>0.812522</td>\n",
       "    </tr>\n",
       "    <tr>\n",
       "      <th>9</th>\n",
       "      <td>9</td>\n",
       "      <td>(256, 128, 64)</td>\n",
       "      <td>relu</td>\n",
       "      <td>sgd</td>\n",
       "      <td>0.000263</td>\n",
       "      <td>0.001406</td>\n",
       "      <td>0.354465</td>\n",
       "      <td>0.932894</td>\n",
       "      <td>0.848164</td>\n",
       "      <td>0.838541</td>\n",
       "      <td>0.891938</td>\n",
       "      <td>0.864416</td>\n",
       "    </tr>\n",
       "    <tr>\n",
       "      <th>10</th>\n",
       "      <td>10</td>\n",
       "      <td>(256, 128, 64)</td>\n",
       "      <td>relu</td>\n",
       "      <td>adam</td>\n",
       "      <td>0.000148</td>\n",
       "      <td>0.009414</td>\n",
       "      <td>0.006558</td>\n",
       "      <td>0.932013</td>\n",
       "      <td>0.846605</td>\n",
       "      <td>0.824077</td>\n",
       "      <td>0.912023</td>\n",
       "      <td>0.865822</td>\n",
       "    </tr>\n",
       "    <tr>\n",
       "      <th>11</th>\n",
       "      <td>11</td>\n",
       "      <td>(256, 128, 64)</td>\n",
       "      <td>relu</td>\n",
       "      <td>adam</td>\n",
       "      <td>0.000123</td>\n",
       "      <td>0.008593</td>\n",
       "      <td>0.017438</td>\n",
       "      <td>0.929408</td>\n",
       "      <td>0.844284</td>\n",
       "      <td>0.828594</td>\n",
       "      <td>0.899023</td>\n",
       "      <td>0.862373</td>\n",
       "    </tr>\n",
       "    <tr>\n",
       "      <th>12</th>\n",
       "      <td>12</td>\n",
       "      <td>(256, 128, 64)</td>\n",
       "      <td>relu</td>\n",
       "      <td>adam</td>\n",
       "      <td>0.000157</td>\n",
       "      <td>0.009898</td>\n",
       "      <td>0.334596</td>\n",
       "      <td>0.931671</td>\n",
       "      <td>0.846513</td>\n",
       "      <td>0.844406</td>\n",
       "      <td>0.879152</td>\n",
       "      <td>0.861428</td>\n",
       "    </tr>\n",
       "    <tr>\n",
       "      <th>13</th>\n",
       "      <td>13</td>\n",
       "      <td>(128,)</td>\n",
       "      <td>relu</td>\n",
       "      <td>adam</td>\n",
       "      <td>0.000057</td>\n",
       "      <td>0.004144</td>\n",
       "      <td>0.321664</td>\n",
       "      <td>0.932484</td>\n",
       "      <td>0.849653</td>\n",
       "      <td>0.837837</td>\n",
       "      <td>0.896449</td>\n",
       "      <td>0.866153</td>\n",
       "    </tr>\n",
       "    <tr>\n",
       "      <th>14</th>\n",
       "      <td>14</td>\n",
       "      <td>(128,)</td>\n",
       "      <td>relu</td>\n",
       "      <td>sgd</td>\n",
       "      <td>0.000047</td>\n",
       "      <td>0.003391</td>\n",
       "      <td>0.323108</td>\n",
       "      <td>0.935406</td>\n",
       "      <td>0.851870</td>\n",
       "      <td>0.839908</td>\n",
       "      <td>0.898236</td>\n",
       "      <td>0.868094</td>\n",
       "    </tr>\n",
       "    <tr>\n",
       "      <th>15</th>\n",
       "      <td>15</td>\n",
       "      <td>(128,)</td>\n",
       "      <td>relu</td>\n",
       "      <td>sgd</td>\n",
       "      <td>0.000010</td>\n",
       "      <td>0.000625</td>\n",
       "      <td>0.332225</td>\n",
       "      <td>0.915069</td>\n",
       "      <td>0.831907</td>\n",
       "      <td>0.817897</td>\n",
       "      <td>0.887939</td>\n",
       "      <td>0.851480</td>\n",
       "    </tr>\n",
       "    <tr>\n",
       "      <th>16</th>\n",
       "      <td>16</td>\n",
       "      <td>(128,)</td>\n",
       "      <td>relu</td>\n",
       "      <td>sgd</td>\n",
       "      <td>0.000284</td>\n",
       "      <td>0.003112</td>\n",
       "      <td>0.374289</td>\n",
       "      <td>0.935504</td>\n",
       "      <td>0.852886</td>\n",
       "      <td>0.843325</td>\n",
       "      <td>0.895215</td>\n",
       "      <td>0.868495</td>\n",
       "    </tr>\n",
       "    <tr>\n",
       "      <th>17</th>\n",
       "      <td>17</td>\n",
       "      <td>(128,)</td>\n",
       "      <td>relu</td>\n",
       "      <td>sgd</td>\n",
       "      <td>0.006739</td>\n",
       "      <td>0.003707</td>\n",
       "      <td>0.269552</td>\n",
       "      <td>0.935247</td>\n",
       "      <td>0.853209</td>\n",
       "      <td>0.844282</td>\n",
       "      <td>0.894470</td>\n",
       "      <td>0.868652</td>\n",
       "    </tr>\n",
       "    <tr>\n",
       "      <th>18</th>\n",
       "      <td>18</td>\n",
       "      <td>(128,)</td>\n",
       "      <td>relu</td>\n",
       "      <td>sgd</td>\n",
       "      <td>0.000047</td>\n",
       "      <td>0.000077</td>\n",
       "      <td>0.390315</td>\n",
       "      <td>0.875141</td>\n",
       "      <td>0.792329</td>\n",
       "      <td>0.776893</td>\n",
       "      <td>0.866003</td>\n",
       "      <td>0.819032</td>\n",
       "    </tr>\n",
       "    <tr>\n",
       "      <th>19</th>\n",
       "      <td>19</td>\n",
       "      <td>(128,)</td>\n",
       "      <td>relu</td>\n",
       "      <td>sgd</td>\n",
       "      <td>0.000304</td>\n",
       "      <td>0.000538</td>\n",
       "      <td>0.286541</td>\n",
       "      <td>0.913395</td>\n",
       "      <td>0.830395</td>\n",
       "      <td>0.816781</td>\n",
       "      <td>0.886258</td>\n",
       "      <td>0.850102</td>\n",
       "    </tr>\n",
       "  </tbody>\n",
       "</table>\n",
       "</div>"
      ],
      "text/plain": [
       "    trial  hidden_layer_sizes activation solver     alpha  learning_rate_init  \\\n",
       "0       0  (256, 128, 64, 32)       tanh    sgd  0.000477            0.001741   \n",
       "1       1           (128, 64)       tanh   adam  0.001001            0.001365   \n",
       "2       2  (256, 128, 64, 32)       tanh    sgd  0.000024            0.000965   \n",
       "3       3           (128, 64)       tanh    sgd  0.000952            0.000024   \n",
       "4       4               (64,)       tanh   adam  0.000669            0.000271   \n",
       "5       5            (64, 32)       tanh    sgd  0.003655            0.001880   \n",
       "6       6  (256, 128, 64, 32)       relu    sgd  0.000020            0.000121   \n",
       "7       7  (256, 128, 64, 32)       tanh    sgd  0.000073            0.000186   \n",
       "8       8              (256,)       tanh   adam  0.001703            0.000011   \n",
       "9       9      (256, 128, 64)       relu    sgd  0.000263            0.001406   \n",
       "10     10      (256, 128, 64)       relu   adam  0.000148            0.009414   \n",
       "11     11      (256, 128, 64)       relu   adam  0.000123            0.008593   \n",
       "12     12      (256, 128, 64)       relu   adam  0.000157            0.009898   \n",
       "13     13              (128,)       relu   adam  0.000057            0.004144   \n",
       "14     14              (128,)       relu    sgd  0.000047            0.003391   \n",
       "15     15              (128,)       relu    sgd  0.000010            0.000625   \n",
       "16     16              (128,)       relu    sgd  0.000284            0.003112   \n",
       "17     17              (128,)       relu    sgd  0.006739            0.003707   \n",
       "18     18              (128,)       relu    sgd  0.000047            0.000077   \n",
       "19     19              (128,)       relu    sgd  0.000304            0.000538   \n",
       "\n",
       "     dropout       AUC  Accuracy  Precision    Recall  F1 Score  \n",
       "0   0.421799  0.929160  0.845196   0.831011  0.897172  0.862825  \n",
       "1   0.456769  0.920994  0.835718   0.815893  0.900449  0.856088  \n",
       "2   0.179069  0.926252  0.841132   0.827079  0.894194  0.859328  \n",
       "3   0.471122  0.858626  0.785182   0.774852  0.851578  0.811405  \n",
       "4   0.220403  0.924608  0.841213   0.828538  0.891981  0.859090  \n",
       "5   0.477090  0.919270  0.834263   0.811829  0.904151  0.855506  \n",
       "6   0.151523  0.911243  0.825858   0.813462  0.881151  0.845955  \n",
       "7   0.453023  0.893980  0.804510   0.790584  0.870279  0.828519  \n",
       "8   0.202715  0.867315  0.786891   0.777370  0.851003  0.812522  \n",
       "9   0.354465  0.932894  0.848164   0.838541  0.891938  0.864416  \n",
       "10  0.006558  0.932013  0.846605   0.824077  0.912023  0.865822  \n",
       "11  0.017438  0.929408  0.844284   0.828594  0.899023  0.862373  \n",
       "12  0.334596  0.931671  0.846513   0.844406  0.879152  0.861428  \n",
       "13  0.321664  0.932484  0.849653   0.837837  0.896449  0.866153  \n",
       "14  0.323108  0.935406  0.851870   0.839908  0.898236  0.868094  \n",
       "15  0.332225  0.915069  0.831907   0.817897  0.887939  0.851480  \n",
       "16  0.374289  0.935504  0.852886   0.843325  0.895215  0.868495  \n",
       "17  0.269552  0.935247  0.853209   0.844282  0.894470  0.868652  \n",
       "18  0.390315  0.875141  0.792329   0.776893  0.866003  0.819032  \n",
       "19  0.286541  0.913395  0.830395   0.816781  0.886258  0.850102  "
      ]
     },
     "execution_count": 12,
     "metadata": {},
     "output_type": "execute_result"
    }
   ],
   "source": [
    "results_df"
   ]
  },
  {
   "cell_type": "code",
   "execution_count": 11,
   "id": "860c952f-2389-4806-a52c-8daa49279103",
   "metadata": {
    "execution": {
     "iopub.execute_input": "2024-09-15T20:27:52.707555Z",
     "iopub.status.busy": "2024-09-15T20:27:52.707215Z",
     "iopub.status.idle": "2024-09-15T20:27:52.719730Z",
     "shell.execute_reply": "2024-09-15T20:27:52.719297Z",
     "shell.execute_reply.started": "2024-09-15T20:27:52.707527Z"
    }
   },
   "outputs": [
    {
     "data": {
      "application/vnd.plotly.v1+json": {
       "config": {
        "plotlyServerURL": "https://plot.ly"
       },
       "data": [
        {
         "dimensions": [
          {
           "label": "Objective Value",
           "range": [
            0.8586257614371843,
            0.935504389546753
           ],
           "values": [
            0.9291596226100779,
            0.920993535487888,
            0.9262520060574467,
            0.8586257614371843,
            0.9246082908018335,
            0.9192695300775902,
            0.9112429058387712,
            0.8939797230880011,
            0.8673149367592913,
            0.9328937551765799,
            0.932012961687175,
            0.9294083317096927,
            0.9316706640377921,
            0.9324841566587314,
            0.9354057779108014,
            0.9150690118545113,
            0.935504389546753,
            0.9352467675844212,
            0.8751409517622097,
            0.9133952582534789
           ]
          },
          {
           "label": "activation",
           "range": [
            0,
            1
           ],
           "ticktext": [
            "tanh",
            "relu"
           ],
           "tickvals": [
            0,
            1
           ],
           "values": [
            0,
            0,
            0,
            0,
            0,
            0,
            1,
            0,
            0,
            1,
            1,
            1,
            1,
            1,
            1,
            1,
            1,
            1,
            1,
            1
           ]
          },
          {
           "label": "alpha",
           "range": [
            -4.986466193784789,
            -2.171408508592894
           ],
           "ticktext": [
            "1.03e-05",
            "0.0001",
            "0.001",
            "0.00674"
           ],
           "tickvals": [
            -4.986466193784789,
            -4,
            -3,
            -2.171408508592894
           ],
           "values": [
            -3.3213673394674648,
            -2.9997139403306687,
            -4.61841548173084,
            -3.021470493047114,
            -3.174770115794196,
            -2.437068768368797,
            -4.699441484918506,
            -4.135347602728109,
            -2.768837402504126,
            -3.5797369090550752,
            -3.8293189283949873,
            -3.9107190834021868,
            -3.804571480531421,
            -4.243847162551996,
            -4.326244793681511,
            -4.986466193784789,
            -3.546801466823876,
            -2.171408508592894,
            -4.330074197189299,
            -3.5177123161791166
           ]
          },
          {
           "label": "dropout",
           "range": [
            0.006557775801193155,
            0.4770895132182528
           ],
           "values": [
            0.42179904968400544,
            0.45676884579248334,
            0.17906946592043005,
            0.47112171285016496,
            0.22040275103989138,
            0.4770895132182528,
            0.15152282937460348,
            0.45302349918417345,
            0.20271544576051137,
            0.35446488938390097,
            0.006557775801193155,
            0.017438374417870828,
            0.3345958703412084,
            0.3216637974495614,
            0.3231083161229873,
            0.33222479921502174,
            0.3742888662684992,
            0.26955205636254276,
            0.3903149831885685,
            0.2865411219990796
           ]
          },
          {
           "label": "hidden_layer_sizes",
           "range": [
            0,
            6
           ],
           "ticktext": [
            "(256, 128, 64, 32)",
            "(128, 64)",
            "(64,)",
            "(64, 32)",
            "(256,)",
            "(256, 128, 64)",
            "(128,)"
           ],
           "tickvals": [
            0,
            1,
            2,
            3,
            4,
            5,
            6
           ],
           "values": [
            0,
            1,
            0,
            1,
            2,
            3,
            0,
            0,
            4,
            5,
            5,
            5,
            5,
            6,
            6,
            6,
            6,
            6,
            6,
            6
           ]
          },
          {
           "label": "learning_rate_init",
           "range": [
            -4.951329946611605,
            -2.0044398474417933
           ],
           "ticktext": [
            "1.12e-05",
            "0.0001",
            "0.001",
            "0.0099"
           ],
           "tickvals": [
            -4.951329946611605,
            -4,
            -3,
            -2.0044398474417933
           ],
           "values": [
            -2.7591564009186853,
            -2.864968923262768,
            -3.0155999933425055,
            -4.628059257196042,
            -3.5677678192253426,
            -2.725913947195326,
            -3.91889976147316,
            -3.7299829745045336,
            -4.951329946611605,
            -2.852126740924885,
            -2.026247884292596,
            -2.065861265511276,
            -2.0044398474417933,
            -2.382579470188904,
            -2.469640131320789,
            -3.204409340668842,
            -2.5069805033810573,
            -2.4309705909658534,
            -4.115188954704926,
            -3.269398847195743
           ]
          },
          {
           "label": "solver",
           "range": [
            0,
            1
           ],
           "ticktext": [
            "sgd",
            "adam"
           ],
           "tickvals": [
            0,
            1
           ],
           "values": [
            0,
            1,
            0,
            0,
            1,
            0,
            0,
            0,
            1,
            0,
            1,
            1,
            1,
            1,
            0,
            0,
            0,
            0,
            0,
            0
           ]
          }
         ],
         "labelangle": 30,
         "labelside": "bottom",
         "line": {
          "color": [
           0.9291596226100779,
           0.920993535487888,
           0.9262520060574467,
           0.8586257614371843,
           0.9246082908018335,
           0.9192695300775902,
           0.9112429058387712,
           0.8939797230880011,
           0.8673149367592913,
           0.9328937551765799,
           0.932012961687175,
           0.9294083317096927,
           0.9316706640377921,
           0.9324841566587314,
           0.9354057779108014,
           0.9150690118545113,
           0.935504389546753,
           0.9352467675844212,
           0.8751409517622097,
           0.9133952582534789
          ],
          "colorbar": {
           "title": {
            "text": "Objective Value"
           }
          },
          "colorscale": [
           [
            0,
            "rgb(247,251,255)"
           ],
           [
            0.125,
            "rgb(222,235,247)"
           ],
           [
            0.25,
            "rgb(198,219,239)"
           ],
           [
            0.375,
            "rgb(158,202,225)"
           ],
           [
            0.5,
            "rgb(107,174,214)"
           ],
           [
            0.625,
            "rgb(66,146,198)"
           ],
           [
            0.75,
            "rgb(33,113,181)"
           ],
           [
            0.875,
            "rgb(8,81,156)"
           ],
           [
            1,
            "rgb(8,48,107)"
           ]
          ],
          "reversescale": false,
          "showscale": true
         },
         "type": "parcoords"
        }
       ],
       "layout": {
        "template": {
         "data": {
          "bar": [
           {
            "error_x": {
             "color": "#2a3f5f"
            },
            "error_y": {
             "color": "#2a3f5f"
            },
            "marker": {
             "line": {
              "color": "#E5ECF6",
              "width": 0.5
             },
             "pattern": {
              "fillmode": "overlay",
              "size": 10,
              "solidity": 0.2
             }
            },
            "type": "bar"
           }
          ],
          "barpolar": [
           {
            "marker": {
             "line": {
              "color": "#E5ECF6",
              "width": 0.5
             },
             "pattern": {
              "fillmode": "overlay",
              "size": 10,
              "solidity": 0.2
             }
            },
            "type": "barpolar"
           }
          ],
          "carpet": [
           {
            "aaxis": {
             "endlinecolor": "#2a3f5f",
             "gridcolor": "white",
             "linecolor": "white",
             "minorgridcolor": "white",
             "startlinecolor": "#2a3f5f"
            },
            "baxis": {
             "endlinecolor": "#2a3f5f",
             "gridcolor": "white",
             "linecolor": "white",
             "minorgridcolor": "white",
             "startlinecolor": "#2a3f5f"
            },
            "type": "carpet"
           }
          ],
          "choropleth": [
           {
            "colorbar": {
             "outlinewidth": 0,
             "ticks": ""
            },
            "type": "choropleth"
           }
          ],
          "contour": [
           {
            "colorbar": {
             "outlinewidth": 0,
             "ticks": ""
            },
            "colorscale": [
             [
              0,
              "#0d0887"
             ],
             [
              0.1111111111111111,
              "#46039f"
             ],
             [
              0.2222222222222222,
              "#7201a8"
             ],
             [
              0.3333333333333333,
              "#9c179e"
             ],
             [
              0.4444444444444444,
              "#bd3786"
             ],
             [
              0.5555555555555556,
              "#d8576b"
             ],
             [
              0.6666666666666666,
              "#ed7953"
             ],
             [
              0.7777777777777778,
              "#fb9f3a"
             ],
             [
              0.8888888888888888,
              "#fdca26"
             ],
             [
              1,
              "#f0f921"
             ]
            ],
            "type": "contour"
           }
          ],
          "contourcarpet": [
           {
            "colorbar": {
             "outlinewidth": 0,
             "ticks": ""
            },
            "type": "contourcarpet"
           }
          ],
          "heatmap": [
           {
            "colorbar": {
             "outlinewidth": 0,
             "ticks": ""
            },
            "colorscale": [
             [
              0,
              "#0d0887"
             ],
             [
              0.1111111111111111,
              "#46039f"
             ],
             [
              0.2222222222222222,
              "#7201a8"
             ],
             [
              0.3333333333333333,
              "#9c179e"
             ],
             [
              0.4444444444444444,
              "#bd3786"
             ],
             [
              0.5555555555555556,
              "#d8576b"
             ],
             [
              0.6666666666666666,
              "#ed7953"
             ],
             [
              0.7777777777777778,
              "#fb9f3a"
             ],
             [
              0.8888888888888888,
              "#fdca26"
             ],
             [
              1,
              "#f0f921"
             ]
            ],
            "type": "heatmap"
           }
          ],
          "heatmapgl": [
           {
            "colorbar": {
             "outlinewidth": 0,
             "ticks": ""
            },
            "colorscale": [
             [
              0,
              "#0d0887"
             ],
             [
              0.1111111111111111,
              "#46039f"
             ],
             [
              0.2222222222222222,
              "#7201a8"
             ],
             [
              0.3333333333333333,
              "#9c179e"
             ],
             [
              0.4444444444444444,
              "#bd3786"
             ],
             [
              0.5555555555555556,
              "#d8576b"
             ],
             [
              0.6666666666666666,
              "#ed7953"
             ],
             [
              0.7777777777777778,
              "#fb9f3a"
             ],
             [
              0.8888888888888888,
              "#fdca26"
             ],
             [
              1,
              "#f0f921"
             ]
            ],
            "type": "heatmapgl"
           }
          ],
          "histogram": [
           {
            "marker": {
             "pattern": {
              "fillmode": "overlay",
              "size": 10,
              "solidity": 0.2
             }
            },
            "type": "histogram"
           }
          ],
          "histogram2d": [
           {
            "colorbar": {
             "outlinewidth": 0,
             "ticks": ""
            },
            "colorscale": [
             [
              0,
              "#0d0887"
             ],
             [
              0.1111111111111111,
              "#46039f"
             ],
             [
              0.2222222222222222,
              "#7201a8"
             ],
             [
              0.3333333333333333,
              "#9c179e"
             ],
             [
              0.4444444444444444,
              "#bd3786"
             ],
             [
              0.5555555555555556,
              "#d8576b"
             ],
             [
              0.6666666666666666,
              "#ed7953"
             ],
             [
              0.7777777777777778,
              "#fb9f3a"
             ],
             [
              0.8888888888888888,
              "#fdca26"
             ],
             [
              1,
              "#f0f921"
             ]
            ],
            "type": "histogram2d"
           }
          ],
          "histogram2dcontour": [
           {
            "colorbar": {
             "outlinewidth": 0,
             "ticks": ""
            },
            "colorscale": [
             [
              0,
              "#0d0887"
             ],
             [
              0.1111111111111111,
              "#46039f"
             ],
             [
              0.2222222222222222,
              "#7201a8"
             ],
             [
              0.3333333333333333,
              "#9c179e"
             ],
             [
              0.4444444444444444,
              "#bd3786"
             ],
             [
              0.5555555555555556,
              "#d8576b"
             ],
             [
              0.6666666666666666,
              "#ed7953"
             ],
             [
              0.7777777777777778,
              "#fb9f3a"
             ],
             [
              0.8888888888888888,
              "#fdca26"
             ],
             [
              1,
              "#f0f921"
             ]
            ],
            "type": "histogram2dcontour"
           }
          ],
          "mesh3d": [
           {
            "colorbar": {
             "outlinewidth": 0,
             "ticks": ""
            },
            "type": "mesh3d"
           }
          ],
          "parcoords": [
           {
            "line": {
             "colorbar": {
              "outlinewidth": 0,
              "ticks": ""
             }
            },
            "type": "parcoords"
           }
          ],
          "pie": [
           {
            "automargin": true,
            "type": "pie"
           }
          ],
          "scatter": [
           {
            "fillpattern": {
             "fillmode": "overlay",
             "size": 10,
             "solidity": 0.2
            },
            "type": "scatter"
           }
          ],
          "scatter3d": [
           {
            "line": {
             "colorbar": {
              "outlinewidth": 0,
              "ticks": ""
             }
            },
            "marker": {
             "colorbar": {
              "outlinewidth": 0,
              "ticks": ""
             }
            },
            "type": "scatter3d"
           }
          ],
          "scattercarpet": [
           {
            "marker": {
             "colorbar": {
              "outlinewidth": 0,
              "ticks": ""
             }
            },
            "type": "scattercarpet"
           }
          ],
          "scattergeo": [
           {
            "marker": {
             "colorbar": {
              "outlinewidth": 0,
              "ticks": ""
             }
            },
            "type": "scattergeo"
           }
          ],
          "scattergl": [
           {
            "marker": {
             "colorbar": {
              "outlinewidth": 0,
              "ticks": ""
             }
            },
            "type": "scattergl"
           }
          ],
          "scattermapbox": [
           {
            "marker": {
             "colorbar": {
              "outlinewidth": 0,
              "ticks": ""
             }
            },
            "type": "scattermapbox"
           }
          ],
          "scatterpolar": [
           {
            "marker": {
             "colorbar": {
              "outlinewidth": 0,
              "ticks": ""
             }
            },
            "type": "scatterpolar"
           }
          ],
          "scatterpolargl": [
           {
            "marker": {
             "colorbar": {
              "outlinewidth": 0,
              "ticks": ""
             }
            },
            "type": "scatterpolargl"
           }
          ],
          "scatterternary": [
           {
            "marker": {
             "colorbar": {
              "outlinewidth": 0,
              "ticks": ""
             }
            },
            "type": "scatterternary"
           }
          ],
          "surface": [
           {
            "colorbar": {
             "outlinewidth": 0,
             "ticks": ""
            },
            "colorscale": [
             [
              0,
              "#0d0887"
             ],
             [
              0.1111111111111111,
              "#46039f"
             ],
             [
              0.2222222222222222,
              "#7201a8"
             ],
             [
              0.3333333333333333,
              "#9c179e"
             ],
             [
              0.4444444444444444,
              "#bd3786"
             ],
             [
              0.5555555555555556,
              "#d8576b"
             ],
             [
              0.6666666666666666,
              "#ed7953"
             ],
             [
              0.7777777777777778,
              "#fb9f3a"
             ],
             [
              0.8888888888888888,
              "#fdca26"
             ],
             [
              1,
              "#f0f921"
             ]
            ],
            "type": "surface"
           }
          ],
          "table": [
           {
            "cells": {
             "fill": {
              "color": "#EBF0F8"
             },
             "line": {
              "color": "white"
             }
            },
            "header": {
             "fill": {
              "color": "#C8D4E3"
             },
             "line": {
              "color": "white"
             }
            },
            "type": "table"
           }
          ]
         },
         "layout": {
          "annotationdefaults": {
           "arrowcolor": "#2a3f5f",
           "arrowhead": 0,
           "arrowwidth": 1
          },
          "autotypenumbers": "strict",
          "coloraxis": {
           "colorbar": {
            "outlinewidth": 0,
            "ticks": ""
           }
          },
          "colorscale": {
           "diverging": [
            [
             0,
             "#8e0152"
            ],
            [
             0.1,
             "#c51b7d"
            ],
            [
             0.2,
             "#de77ae"
            ],
            [
             0.3,
             "#f1b6da"
            ],
            [
             0.4,
             "#fde0ef"
            ],
            [
             0.5,
             "#f7f7f7"
            ],
            [
             0.6,
             "#e6f5d0"
            ],
            [
             0.7,
             "#b8e186"
            ],
            [
             0.8,
             "#7fbc41"
            ],
            [
             0.9,
             "#4d9221"
            ],
            [
             1,
             "#276419"
            ]
           ],
           "sequential": [
            [
             0,
             "#0d0887"
            ],
            [
             0.1111111111111111,
             "#46039f"
            ],
            [
             0.2222222222222222,
             "#7201a8"
            ],
            [
             0.3333333333333333,
             "#9c179e"
            ],
            [
             0.4444444444444444,
             "#bd3786"
            ],
            [
             0.5555555555555556,
             "#d8576b"
            ],
            [
             0.6666666666666666,
             "#ed7953"
            ],
            [
             0.7777777777777778,
             "#fb9f3a"
            ],
            [
             0.8888888888888888,
             "#fdca26"
            ],
            [
             1,
             "#f0f921"
            ]
           ],
           "sequentialminus": [
            [
             0,
             "#0d0887"
            ],
            [
             0.1111111111111111,
             "#46039f"
            ],
            [
             0.2222222222222222,
             "#7201a8"
            ],
            [
             0.3333333333333333,
             "#9c179e"
            ],
            [
             0.4444444444444444,
             "#bd3786"
            ],
            [
             0.5555555555555556,
             "#d8576b"
            ],
            [
             0.6666666666666666,
             "#ed7953"
            ],
            [
             0.7777777777777778,
             "#fb9f3a"
            ],
            [
             0.8888888888888888,
             "#fdca26"
            ],
            [
             1,
             "#f0f921"
            ]
           ]
          },
          "colorway": [
           "#636efa",
           "#EF553B",
           "#00cc96",
           "#ab63fa",
           "#FFA15A",
           "#19d3f3",
           "#FF6692",
           "#B6E880",
           "#FF97FF",
           "#FECB52"
          ],
          "font": {
           "color": "#2a3f5f"
          },
          "geo": {
           "bgcolor": "white",
           "lakecolor": "white",
           "landcolor": "#E5ECF6",
           "showlakes": true,
           "showland": true,
           "subunitcolor": "white"
          },
          "hoverlabel": {
           "align": "left"
          },
          "hovermode": "closest",
          "mapbox": {
           "style": "light"
          },
          "paper_bgcolor": "white",
          "plot_bgcolor": "#E5ECF6",
          "polar": {
           "angularaxis": {
            "gridcolor": "white",
            "linecolor": "white",
            "ticks": ""
           },
           "bgcolor": "#E5ECF6",
           "radialaxis": {
            "gridcolor": "white",
            "linecolor": "white",
            "ticks": ""
           }
          },
          "scene": {
           "xaxis": {
            "backgroundcolor": "#E5ECF6",
            "gridcolor": "white",
            "gridwidth": 2,
            "linecolor": "white",
            "showbackground": true,
            "ticks": "",
            "zerolinecolor": "white"
           },
           "yaxis": {
            "backgroundcolor": "#E5ECF6",
            "gridcolor": "white",
            "gridwidth": 2,
            "linecolor": "white",
            "showbackground": true,
            "ticks": "",
            "zerolinecolor": "white"
           },
           "zaxis": {
            "backgroundcolor": "#E5ECF6",
            "gridcolor": "white",
            "gridwidth": 2,
            "linecolor": "white",
            "showbackground": true,
            "ticks": "",
            "zerolinecolor": "white"
           }
          },
          "shapedefaults": {
           "line": {
            "color": "#2a3f5f"
           }
          },
          "ternary": {
           "aaxis": {
            "gridcolor": "white",
            "linecolor": "white",
            "ticks": ""
           },
           "baxis": {
            "gridcolor": "white",
            "linecolor": "white",
            "ticks": ""
           },
           "bgcolor": "#E5ECF6",
           "caxis": {
            "gridcolor": "white",
            "linecolor": "white",
            "ticks": ""
           }
          },
          "title": {
           "x": 0.05
          },
          "xaxis": {
           "automargin": true,
           "gridcolor": "white",
           "linecolor": "white",
           "ticks": "",
           "title": {
            "standoff": 15
           },
           "zerolinecolor": "white",
           "zerolinewidth": 2
          },
          "yaxis": {
           "automargin": true,
           "gridcolor": "white",
           "linecolor": "white",
           "ticks": "",
           "title": {
            "standoff": 15
           },
           "zerolinecolor": "white",
           "zerolinewidth": 2
          }
         }
        },
        "title": {
         "text": "Parallel Coordinate Plot"
        }
       }
      },
      "text/html": [
       "<div>                            <div id=\"246416e4-627b-4aab-8b0c-045b44ecb730\" class=\"plotly-graph-div\" style=\"height:525px; width:100%;\"></div>            <script type=\"text/javascript\">                require([\"plotly\"], function(Plotly) {                    window.PLOTLYENV=window.PLOTLYENV || {};                                    if (document.getElementById(\"246416e4-627b-4aab-8b0c-045b44ecb730\")) {                    Plotly.newPlot(                        \"246416e4-627b-4aab-8b0c-045b44ecb730\",                        [{\"dimensions\":[{\"label\":\"Objective Value\",\"range\":[0.8586257614371843,0.935504389546753],\"values\":[0.9291596226100779,0.920993535487888,0.9262520060574467,0.8586257614371843,0.9246082908018335,0.9192695300775902,0.9112429058387712,0.8939797230880011,0.8673149367592913,0.9328937551765799,0.932012961687175,0.9294083317096927,0.9316706640377921,0.9324841566587314,0.9354057779108014,0.9150690118545113,0.935504389546753,0.9352467675844212,0.8751409517622097,0.9133952582534789]},{\"label\":\"activation\",\"range\":[0,1],\"ticktext\":[\"tanh\",\"relu\"],\"tickvals\":[0,1],\"values\":[0,0,0,0,0,0,1,0,0,1,1,1,1,1,1,1,1,1,1,1]},{\"label\":\"alpha\",\"range\":[-4.986466193784789,-2.171408508592894],\"ticktext\":[\"1.03e-05\",\"0.0001\",\"0.001\",\"0.00674\"],\"tickvals\":[-4.986466193784789,-4,-3,-2.171408508592894],\"values\":[-3.3213673394674648,-2.9997139403306687,-4.61841548173084,-3.021470493047114,-3.174770115794196,-2.437068768368797,-4.699441484918506,-4.135347602728109,-2.768837402504126,-3.5797369090550752,-3.8293189283949873,-3.9107190834021868,-3.804571480531421,-4.243847162551996,-4.326244793681511,-4.986466193784789,-3.546801466823876,-2.171408508592894,-4.330074197189299,-3.5177123161791166]},{\"label\":\"dropout\",\"range\":[0.006557775801193155,0.4770895132182528],\"values\":[0.42179904968400544,0.45676884579248334,0.17906946592043005,0.47112171285016496,0.22040275103989138,0.4770895132182528,0.15152282937460348,0.45302349918417345,0.20271544576051137,0.35446488938390097,0.006557775801193155,0.017438374417870828,0.3345958703412084,0.3216637974495614,0.3231083161229873,0.33222479921502174,0.3742888662684992,0.26955205636254276,0.3903149831885685,0.2865411219990796]},{\"label\":\"hidden_layer_sizes\",\"range\":[0,6],\"ticktext\":[\"(256, 128, 64, 32)\",\"(128, 64)\",\"(64,)\",\"(64, 32)\",\"(256,)\",\"(256, 128, 64)\",\"(128,)\"],\"tickvals\":[0,1,2,3,4,5,6],\"values\":[0,1,0,1,2,3,0,0,4,5,5,5,5,6,6,6,6,6,6,6]},{\"label\":\"learning_rate_init\",\"range\":[-4.951329946611605,-2.0044398474417933],\"ticktext\":[\"1.12e-05\",\"0.0001\",\"0.001\",\"0.0099\"],\"tickvals\":[-4.951329946611605,-4,-3,-2.0044398474417933],\"values\":[-2.7591564009186853,-2.864968923262768,-3.0155999933425055,-4.628059257196042,-3.5677678192253426,-2.725913947195326,-3.91889976147316,-3.7299829745045336,-4.951329946611605,-2.852126740924885,-2.026247884292596,-2.065861265511276,-2.0044398474417933,-2.382579470188904,-2.469640131320789,-3.204409340668842,-2.5069805033810573,-2.4309705909658534,-4.115188954704926,-3.269398847195743]},{\"label\":\"solver\",\"range\":[0,1],\"ticktext\":[\"sgd\",\"adam\"],\"tickvals\":[0,1],\"values\":[0,1,0,0,1,0,0,0,1,0,1,1,1,1,0,0,0,0,0,0]}],\"labelangle\":30,\"labelside\":\"bottom\",\"line\":{\"color\":[0.9291596226100779,0.920993535487888,0.9262520060574467,0.8586257614371843,0.9246082908018335,0.9192695300775902,0.9112429058387712,0.8939797230880011,0.8673149367592913,0.9328937551765799,0.932012961687175,0.9294083317096927,0.9316706640377921,0.9324841566587314,0.9354057779108014,0.9150690118545113,0.935504389546753,0.9352467675844212,0.8751409517622097,0.9133952582534789],\"colorbar\":{\"title\":{\"text\":\"Objective Value\"}},\"colorscale\":[[0.0,\"rgb(247,251,255)\"],[0.125,\"rgb(222,235,247)\"],[0.25,\"rgb(198,219,239)\"],[0.375,\"rgb(158,202,225)\"],[0.5,\"rgb(107,174,214)\"],[0.625,\"rgb(66,146,198)\"],[0.75,\"rgb(33,113,181)\"],[0.875,\"rgb(8,81,156)\"],[1.0,\"rgb(8,48,107)\"]],\"reversescale\":false,\"showscale\":true},\"type\":\"parcoords\"}],                        {\"title\":{\"text\":\"Parallel Coordinate Plot\"},\"template\":{\"data\":{\"histogram2dcontour\":[{\"type\":\"histogram2dcontour\",\"colorbar\":{\"outlinewidth\":0,\"ticks\":\"\"},\"colorscale\":[[0.0,\"#0d0887\"],[0.1111111111111111,\"#46039f\"],[0.2222222222222222,\"#7201a8\"],[0.3333333333333333,\"#9c179e\"],[0.4444444444444444,\"#bd3786\"],[0.5555555555555556,\"#d8576b\"],[0.6666666666666666,\"#ed7953\"],[0.7777777777777778,\"#fb9f3a\"],[0.8888888888888888,\"#fdca26\"],[1.0,\"#f0f921\"]]}],\"choropleth\":[{\"type\":\"choropleth\",\"colorbar\":{\"outlinewidth\":0,\"ticks\":\"\"}}],\"histogram2d\":[{\"type\":\"histogram2d\",\"colorbar\":{\"outlinewidth\":0,\"ticks\":\"\"},\"colorscale\":[[0.0,\"#0d0887\"],[0.1111111111111111,\"#46039f\"],[0.2222222222222222,\"#7201a8\"],[0.3333333333333333,\"#9c179e\"],[0.4444444444444444,\"#bd3786\"],[0.5555555555555556,\"#d8576b\"],[0.6666666666666666,\"#ed7953\"],[0.7777777777777778,\"#fb9f3a\"],[0.8888888888888888,\"#fdca26\"],[1.0,\"#f0f921\"]]}],\"heatmap\":[{\"type\":\"heatmap\",\"colorbar\":{\"outlinewidth\":0,\"ticks\":\"\"},\"colorscale\":[[0.0,\"#0d0887\"],[0.1111111111111111,\"#46039f\"],[0.2222222222222222,\"#7201a8\"],[0.3333333333333333,\"#9c179e\"],[0.4444444444444444,\"#bd3786\"],[0.5555555555555556,\"#d8576b\"],[0.6666666666666666,\"#ed7953\"],[0.7777777777777778,\"#fb9f3a\"],[0.8888888888888888,\"#fdca26\"],[1.0,\"#f0f921\"]]}],\"heatmapgl\":[{\"type\":\"heatmapgl\",\"colorbar\":{\"outlinewidth\":0,\"ticks\":\"\"},\"colorscale\":[[0.0,\"#0d0887\"],[0.1111111111111111,\"#46039f\"],[0.2222222222222222,\"#7201a8\"],[0.3333333333333333,\"#9c179e\"],[0.4444444444444444,\"#bd3786\"],[0.5555555555555556,\"#d8576b\"],[0.6666666666666666,\"#ed7953\"],[0.7777777777777778,\"#fb9f3a\"],[0.8888888888888888,\"#fdca26\"],[1.0,\"#f0f921\"]]}],\"contourcarpet\":[{\"type\":\"contourcarpet\",\"colorbar\":{\"outlinewidth\":0,\"ticks\":\"\"}}],\"contour\":[{\"type\":\"contour\",\"colorbar\":{\"outlinewidth\":0,\"ticks\":\"\"},\"colorscale\":[[0.0,\"#0d0887\"],[0.1111111111111111,\"#46039f\"],[0.2222222222222222,\"#7201a8\"],[0.3333333333333333,\"#9c179e\"],[0.4444444444444444,\"#bd3786\"],[0.5555555555555556,\"#d8576b\"],[0.6666666666666666,\"#ed7953\"],[0.7777777777777778,\"#fb9f3a\"],[0.8888888888888888,\"#fdca26\"],[1.0,\"#f0f921\"]]}],\"surface\":[{\"type\":\"surface\",\"colorbar\":{\"outlinewidth\":0,\"ticks\":\"\"},\"colorscale\":[[0.0,\"#0d0887\"],[0.1111111111111111,\"#46039f\"],[0.2222222222222222,\"#7201a8\"],[0.3333333333333333,\"#9c179e\"],[0.4444444444444444,\"#bd3786\"],[0.5555555555555556,\"#d8576b\"],[0.6666666666666666,\"#ed7953\"],[0.7777777777777778,\"#fb9f3a\"],[0.8888888888888888,\"#fdca26\"],[1.0,\"#f0f921\"]]}],\"mesh3d\":[{\"type\":\"mesh3d\",\"colorbar\":{\"outlinewidth\":0,\"ticks\":\"\"}}],\"scatter\":[{\"fillpattern\":{\"fillmode\":\"overlay\",\"size\":10,\"solidity\":0.2},\"type\":\"scatter\"}],\"parcoords\":[{\"type\":\"parcoords\",\"line\":{\"colorbar\":{\"outlinewidth\":0,\"ticks\":\"\"}}}],\"scatterpolargl\":[{\"type\":\"scatterpolargl\",\"marker\":{\"colorbar\":{\"outlinewidth\":0,\"ticks\":\"\"}}}],\"bar\":[{\"error_x\":{\"color\":\"#2a3f5f\"},\"error_y\":{\"color\":\"#2a3f5f\"},\"marker\":{\"line\":{\"color\":\"#E5ECF6\",\"width\":0.5},\"pattern\":{\"fillmode\":\"overlay\",\"size\":10,\"solidity\":0.2}},\"type\":\"bar\"}],\"scattergeo\":[{\"type\":\"scattergeo\",\"marker\":{\"colorbar\":{\"outlinewidth\":0,\"ticks\":\"\"}}}],\"scatterpolar\":[{\"type\":\"scatterpolar\",\"marker\":{\"colorbar\":{\"outlinewidth\":0,\"ticks\":\"\"}}}],\"histogram\":[{\"marker\":{\"pattern\":{\"fillmode\":\"overlay\",\"size\":10,\"solidity\":0.2}},\"type\":\"histogram\"}],\"scattergl\":[{\"type\":\"scattergl\",\"marker\":{\"colorbar\":{\"outlinewidth\":0,\"ticks\":\"\"}}}],\"scatter3d\":[{\"type\":\"scatter3d\",\"line\":{\"colorbar\":{\"outlinewidth\":0,\"ticks\":\"\"}},\"marker\":{\"colorbar\":{\"outlinewidth\":0,\"ticks\":\"\"}}}],\"scattermapbox\":[{\"type\":\"scattermapbox\",\"marker\":{\"colorbar\":{\"outlinewidth\":0,\"ticks\":\"\"}}}],\"scatterternary\":[{\"type\":\"scatterternary\",\"marker\":{\"colorbar\":{\"outlinewidth\":0,\"ticks\":\"\"}}}],\"scattercarpet\":[{\"type\":\"scattercarpet\",\"marker\":{\"colorbar\":{\"outlinewidth\":0,\"ticks\":\"\"}}}],\"carpet\":[{\"aaxis\":{\"endlinecolor\":\"#2a3f5f\",\"gridcolor\":\"white\",\"linecolor\":\"white\",\"minorgridcolor\":\"white\",\"startlinecolor\":\"#2a3f5f\"},\"baxis\":{\"endlinecolor\":\"#2a3f5f\",\"gridcolor\":\"white\",\"linecolor\":\"white\",\"minorgridcolor\":\"white\",\"startlinecolor\":\"#2a3f5f\"},\"type\":\"carpet\"}],\"table\":[{\"cells\":{\"fill\":{\"color\":\"#EBF0F8\"},\"line\":{\"color\":\"white\"}},\"header\":{\"fill\":{\"color\":\"#C8D4E3\"},\"line\":{\"color\":\"white\"}},\"type\":\"table\"}],\"barpolar\":[{\"marker\":{\"line\":{\"color\":\"#E5ECF6\",\"width\":0.5},\"pattern\":{\"fillmode\":\"overlay\",\"size\":10,\"solidity\":0.2}},\"type\":\"barpolar\"}],\"pie\":[{\"automargin\":true,\"type\":\"pie\"}]},\"layout\":{\"autotypenumbers\":\"strict\",\"colorway\":[\"#636efa\",\"#EF553B\",\"#00cc96\",\"#ab63fa\",\"#FFA15A\",\"#19d3f3\",\"#FF6692\",\"#B6E880\",\"#FF97FF\",\"#FECB52\"],\"font\":{\"color\":\"#2a3f5f\"},\"hovermode\":\"closest\",\"hoverlabel\":{\"align\":\"left\"},\"paper_bgcolor\":\"white\",\"plot_bgcolor\":\"#E5ECF6\",\"polar\":{\"bgcolor\":\"#E5ECF6\",\"angularaxis\":{\"gridcolor\":\"white\",\"linecolor\":\"white\",\"ticks\":\"\"},\"radialaxis\":{\"gridcolor\":\"white\",\"linecolor\":\"white\",\"ticks\":\"\"}},\"ternary\":{\"bgcolor\":\"#E5ECF6\",\"aaxis\":{\"gridcolor\":\"white\",\"linecolor\":\"white\",\"ticks\":\"\"},\"baxis\":{\"gridcolor\":\"white\",\"linecolor\":\"white\",\"ticks\":\"\"},\"caxis\":{\"gridcolor\":\"white\",\"linecolor\":\"white\",\"ticks\":\"\"}},\"coloraxis\":{\"colorbar\":{\"outlinewidth\":0,\"ticks\":\"\"}},\"colorscale\":{\"sequential\":[[0.0,\"#0d0887\"],[0.1111111111111111,\"#46039f\"],[0.2222222222222222,\"#7201a8\"],[0.3333333333333333,\"#9c179e\"],[0.4444444444444444,\"#bd3786\"],[0.5555555555555556,\"#d8576b\"],[0.6666666666666666,\"#ed7953\"],[0.7777777777777778,\"#fb9f3a\"],[0.8888888888888888,\"#fdca26\"],[1.0,\"#f0f921\"]],\"sequentialminus\":[[0.0,\"#0d0887\"],[0.1111111111111111,\"#46039f\"],[0.2222222222222222,\"#7201a8\"],[0.3333333333333333,\"#9c179e\"],[0.4444444444444444,\"#bd3786\"],[0.5555555555555556,\"#d8576b\"],[0.6666666666666666,\"#ed7953\"],[0.7777777777777778,\"#fb9f3a\"],[0.8888888888888888,\"#fdca26\"],[1.0,\"#f0f921\"]],\"diverging\":[[0,\"#8e0152\"],[0.1,\"#c51b7d\"],[0.2,\"#de77ae\"],[0.3,\"#f1b6da\"],[0.4,\"#fde0ef\"],[0.5,\"#f7f7f7\"],[0.6,\"#e6f5d0\"],[0.7,\"#b8e186\"],[0.8,\"#7fbc41\"],[0.9,\"#4d9221\"],[1,\"#276419\"]]},\"xaxis\":{\"gridcolor\":\"white\",\"linecolor\":\"white\",\"ticks\":\"\",\"title\":{\"standoff\":15},\"zerolinecolor\":\"white\",\"automargin\":true,\"zerolinewidth\":2},\"yaxis\":{\"gridcolor\":\"white\",\"linecolor\":\"white\",\"ticks\":\"\",\"title\":{\"standoff\":15},\"zerolinecolor\":\"white\",\"automargin\":true,\"zerolinewidth\":2},\"scene\":{\"xaxis\":{\"backgroundcolor\":\"#E5ECF6\",\"gridcolor\":\"white\",\"linecolor\":\"white\",\"showbackground\":true,\"ticks\":\"\",\"zerolinecolor\":\"white\",\"gridwidth\":2},\"yaxis\":{\"backgroundcolor\":\"#E5ECF6\",\"gridcolor\":\"white\",\"linecolor\":\"white\",\"showbackground\":true,\"ticks\":\"\",\"zerolinecolor\":\"white\",\"gridwidth\":2},\"zaxis\":{\"backgroundcolor\":\"#E5ECF6\",\"gridcolor\":\"white\",\"linecolor\":\"white\",\"showbackground\":true,\"ticks\":\"\",\"zerolinecolor\":\"white\",\"gridwidth\":2}},\"shapedefaults\":{\"line\":{\"color\":\"#2a3f5f\"}},\"annotationdefaults\":{\"arrowcolor\":\"#2a3f5f\",\"arrowhead\":0,\"arrowwidth\":1},\"geo\":{\"bgcolor\":\"white\",\"landcolor\":\"#E5ECF6\",\"subunitcolor\":\"white\",\"showland\":true,\"showlakes\":true,\"lakecolor\":\"white\"},\"title\":{\"x\":0.05},\"mapbox\":{\"style\":\"light\"}}}},                        {\"responsive\": true}                    ).then(function(){\n",
       "                            \n",
       "var gd = document.getElementById('246416e4-627b-4aab-8b0c-045b44ecb730');\n",
       "var x = new MutationObserver(function (mutations, observer) {{\n",
       "        var display = window.getComputedStyle(gd).display;\n",
       "        if (!display || display === 'none') {{\n",
       "            console.log([gd, 'removed!']);\n",
       "            Plotly.purge(gd);\n",
       "            observer.disconnect();\n",
       "        }}\n",
       "}});\n",
       "\n",
       "// Listen for the removal of the full notebook cells\n",
       "var notebookContainer = gd.closest('#notebook-container');\n",
       "if (notebookContainer) {{\n",
       "    x.observe(notebookContainer, {childList: true});\n",
       "}}\n",
       "\n",
       "// Listen for the clearing of the current output cell\n",
       "var outputEl = gd.closest('.output');\n",
       "if (outputEl) {{\n",
       "    x.observe(outputEl, {childList: true});\n",
       "}}\n",
       "\n",
       "                        })                };                });            </script>        </div>"
      ]
     },
     "metadata": {},
     "output_type": "display_data"
    }
   ],
   "source": [
    "\n",
    "# Plot the parallel coordinate plot for hyperparameters\n",
    "optuna.visualization.plot_parallel_coordinate(study_mlp)\n"
   ]
  },
  {
   "cell_type": "code",
   "execution_count": 13,
   "id": "75648158-36fb-4a7b-8a2a-405aa9119f52",
   "metadata": {
    "execution": {
     "iopub.execute_input": "2024-09-15T20:28:50.217521Z",
     "iopub.status.busy": "2024-09-15T20:28:50.217198Z",
     "iopub.status.idle": "2024-09-15T20:30:30.788321Z",
     "shell.execute_reply": "2024-09-15T20:30:30.787958Z",
     "shell.execute_reply.started": "2024-09-15T20:28:50.217493Z"
    }
   },
   "outputs": [
    {
     "data": {
      "image/png": "[encoded data removed]",
      "text/plain": [
       "<Figure size 800x600 with 1 Axes>"
      ]
     },
     "metadata": {},
     "output_type": "display_data"
    },
    {
     "name": "stdout",
     "output_type": "stream",
     "text": [
      "Best Accuracy Trial: 17\n",
      "Best Accuracy: 0.8532\n"
     ]
    }
   ],
   "source": [
    "from sklearn.metrics import roc_curve, auc\n",
    "\n",
    "# Find the trial with the best accuracy\n",
    "best_accuracy_trial = results_df.loc[results_df['Accuracy'].idxmax()]\n",
    "best_trial_number = best_accuracy_trial['trial']\n",
    "\n",
    "# Refit the MLP model with the hyperparameters of the best accuracy trial\n",
    "mlp_best_accuracy = MLPClassifier(\n",
    "    hidden_layer_sizes=best_accuracy_trial['hidden_layer_sizes'],\n",
    "    activation=best_accuracy_trial['activation'],\n",
    "    solver=best_accuracy_trial['solver'],\n",
    "    alpha=best_accuracy_trial['alpha'],\n",
    "    learning_rate_init=best_accuracy_trial['learning_rate_init'],\n",
    "    max_iter=300,\n",
    "    early_stopping=True\n",
    ")\n",
    "\n",
    "# Train the model on the training set\n",
    "mlp_best_accuracy.fit(X_train_opt, y_train_opt)\n",
    "\n",
    "# Predict probabilities on the validation set for ROC curve\n",
    "y_valid_proba_best_accuracy = mlp_best_accuracy.predict_proba(X_valid_opt)[:, 1]\n",
    "\n",
    "# Generate ROC curve data\n",
    "fpr, tpr, thresholds = roc_curve(y_valid_opt, y_valid_proba_best_accuracy)\n",
    "roc_auc = auc(fpr, tpr)\n",
    "\n",
    "# Plot ROC curve for the model with the best accuracy\n",
    "plt.figure(figsize=(8, 6))\n",
    "plt.plot(fpr, tpr, color='blue', label=f'ROC Curve (AUC = {roc_auc:.2f})')\n",
    "plt.plot([0, 1], [0, 1], color='red', linestyle='--')\n",
    "plt.xlim([0.0, 1.0])\n",
    "plt.ylim([0.0, 1.05])\n",
    "plt.xlabel('False Positive Rate')\n",
    "plt.ylabel('True Positive Rate')\n",
    "plt.title('ROC Curve for Best Accuracy Model')\n",
    "plt.legend(loc=\"lower right\")\n",
    "plt.show()\n",
    "\n",
    "print(f'Best Accuracy Trial: {best_trial_number}')\n",
    "print(f'Best Accuracy: {best_accuracy_trial[\"Accuracy\"]:.4f}')\n"
   ]
  },
  {
   "cell_type": "code",
   "execution_count": 17,
   "id": "f1ca564d-9757-402b-9c01-1bfe5664e0fa",
   "metadata": {
    "execution": {
     "iopub.execute_input": "2024-09-15T14:04:46.860217Z",
     "iopub.status.busy": "2024-09-15T14:04:46.859910Z",
     "iopub.status.idle": "2024-09-15T14:06:42.062360Z",
     "shell.execute_reply": "2024-09-15T14:06:42.061905Z",
     "shell.execute_reply.started": "2024-09-15T14:04:46.860191Z"
    }
   },
   "outputs": [
    {
     "data": {
      "image/png": "[encoded data removed]",
      "text/plain": [
       "<Figure size 800x600 with 1 Axes>"
      ]
     },
     "metadata": {},
     "output_type": "display_data"
    }
   ],
   "source": [
    "# Refit the MLP model with the best hyperparameters on the full training data\n",
    "mlp_best = MLPClassifier(\n",
    "    hidden_layer_sizes=best_params_mlp['hidden_layer_sizes'],\n",
    "    activation=best_params_mlp['activation'],\n",
    "    solver=best_params_mlp['solver'],\n",
    "    alpha=best_params_mlp['alpha'],\n",
    "    learning_rate_init=best_params_mlp['learning_rate_init'],\n",
    "    max_iter=300,\n",
    "    early_stopping=True\n",
    ")\n",
    "\n",
    "# Train the model on the full training data (train and validation combined)\n",
    "mlp_best.fit(X_train_flat, y_train_flat)\n",
    "\n",
    "# Predict probabilities on the test data\n",
    "y_test_proba = mlp_best.predict_proba(X_test_flat)[:, 1]\n",
    "\n",
    "# Generate ROC curve data\n",
    "fpr, tpr, thresholds = roc_curve(y_test_flat, y_test_proba)\n",
    "roc_auc = auc(fpr, tpr)\n",
    "\n",
    "# Plot ROC curve\n",
    "plt.figure(figsize=(8, 6))\n",
    "plt.plot(fpr, tpr, color='blue', label=f'ROC Curve (AUC = {roc_auc:.2f})')\n",
    "plt.plot([0, 1], [0, 1], color='red', linestyle='--')\n",
    "plt.xlim([0.0, 1.0])\n",
    "plt.ylim([0.0, 1.05])\n",
    "plt.xlabel('False Positive Rate')\n",
    "plt.ylabel('True Positive Rate')\n",
    "plt.title('ROC Curve for MLP hypertuned)\n",
    "plt.legend(loc=\"lower right\")\n",
    "plt.show()\n"
   ]
  },
  {
   "cell_type": "code",
   "execution_count": 14,
   "id": "796794a6-464c-4ba7-a272-3264d0bbe14c",
   "metadata": {
    "execution": {
     "iopub.execute_input": "2024-09-15T20:30:30.804222Z",
     "iopub.status.busy": "2024-09-15T20:30:30.803995Z",
     "iopub.status.idle": "2024-09-15T20:30:30.822233Z",
     "shell.execute_reply": "2024-09-15T20:30:30.821748Z",
     "shell.execute_reply.started": "2024-09-15T20:30:30.804208Z"
    }
   },
   "outputs": [
    {
     "ename": "NameError",
     "evalue": "name 'mlp_best' is not defined",
     "output_type": "error",
     "traceback": [
      "\u001b[0;31m---------------------------------------------------------------------------\u001b[0m",
      "\u001b[0;31mNameError\u001b[0m                                 Traceback (most recent call last)",
      "Cell \u001b[0;32mIn[14], line 4\u001b[0m\n\u001b[1;32m      1\u001b[0m \u001b[38;5;28;01mfrom\u001b[39;00m \u001b[38;5;21;01msklearn\u001b[39;00m\u001b[38;5;21;01m.\u001b[39;00m\u001b[38;5;21;01mmetrics\u001b[39;00m \u001b[38;5;28;01mimport\u001b[39;00m precision_score, recall_score, f1_score\n\u001b[1;32m      3\u001b[0m \u001b[38;5;66;03m# Predict classes on the test data\u001b[39;00m\n\u001b[0;32m----> 4\u001b[0m y_test_pred \u001b[38;5;241m=\u001b[39m \u001b[43mmlp_best\u001b[49m\u001b[38;5;241m.\u001b[39mpredict(X_test_flat)\n\u001b[1;32m      6\u001b[0m \u001b[38;5;66;03m# Calculate Precision, Recall, and F1 score\u001b[39;00m\n\u001b[1;32m      7\u001b[0m precision \u001b[38;5;241m=\u001b[39m precision_score(y_test_flat, y_test_pred)\n",
      "\u001b[0;31mNameError\u001b[0m: name 'mlp_best' is not defined"
     ]
    }
   ],
   "source": [
    "from sklearn.metrics import precision_score, recall_score, f1_score\n",
    "\n",
    "# Predict classes on the test data\n",
    "y_test_pred = mlp_best.predict(X_test_flat)\n",
    "\n",
    "# Calculate Precision, Recall, and F1 score\n",
    "precision = precision_score(y_test_flat, y_test_pred)\n",
    "recall = recall_score(y_test_flat, y_test_pred)\n",
    "f1 = f1_score(y_test_flat, y_test_pred)\n",
    "\n",
    "# Print the Precision, Recall, and F1 score\n",
    "print(f'Precision: {precision:.4f}')\n",
    "print(f'Recall: {recall:.4f}')\n",
    "print(f'F1 Score: {f1:.4f}')\n",
    "\n",
    "\n",
    "# Plot ROC curve\n",
    "plt.figure(figsize=(8, 6))\n",
    "plt.plot(fpr, tpr, color='blue', label=f'ROC Curve (AUC = {roc_auc:.2f})')\n",
    "plt.plot([0, 1], [0, 1], color='red', linestyle='--')\n",
    "plt.xlim([0.0, 1.0])\n",
    "plt.ylim([0.0, 1.05])\n",
    "plt.xlabel('False Positive Rate')\n",
    "plt.ylabel('True Positive Rate')\n",
    "plt.title(\"ROC Curve for MLP hypertuned\")\n",
    "plt.legend(loc=\"lower right\")\n",
    "plt.show()\n"
   ]
  },
  {
   "cell_type": "code",
   "execution_count": null,
   "id": "3bb4c406-24f9-4ba8-b3b9-854a89990e38",
   "metadata": {
    "execution": {
     "execution_failed": "2024-09-15T14:29:13.337Z"
    }
   },
   "outputs": [],
   "source": [
    "import plotly\n",
    "optuna.visualization.plot_optimization_history(study_mlp)\n",
    "plt.show()\n",
    "\n",
    "# Plot the parallel coordinate plot for hyperparameters\n",
    "optuna.visualization.plot_parallel_coordinate(study_mlp)\n",
    "plt.show()\n"
   ]
  },
  {
   "cell_type": "code",
   "execution_count": 13,
   "id": "1f4a560d-cb85-43ef-8968-ab34d06df5ee",
   "metadata": {
    "execution": {
     "iopub.execute_input": "2024-09-08T07:35:28.712212Z",
     "iopub.status.busy": "2024-09-08T07:35:28.711875Z",
     "iopub.status.idle": "2024-09-08T07:35:34.291592Z",
     "shell.execute_reply": "2024-09-08T07:35:34.291246Z",
     "shell.execute_reply.started": "2024-09-08T07:35:28.712185Z"
    }
   },
   "outputs": [
    {
     "data": {
      "image/png": "[encoded data removed]",
      "text/plain": [
       "<Figure size 1000x500 with 1 Axes>"
      ]
     },
     "metadata": {},
     "output_type": "display_data"
    }
   ],
   "source": [
    "import matplotlib.pyplot as plt\n",
    "\n",
    "# Find common keys\n",
    "common_keys = list(set(avg_mod_qual_a.keys()).intersection(avg_mod_qual_b.keys()))\n",
    "\n",
    "# Calculate the differences between the values\n",
    "differences = [avg_mod_qual_a[key] - avg_mod_qual_b[key] for key in common_keys]\n",
    "\n",
    "# Plot histogram of differences\n",
    "plt.figure(figsize=(10, 5))\n",
    "plt.hist(differences, bins=50, alpha=0.7, color='blue')\n",
    "plt.xlabel('Difference (Dict 1 - Dict 2)')\n",
    "plt.ylabel('Frequency')\n",
    "plt.title('Histogram of Value Differences Between Dict 1 and Dict 2')\n",
    "plt.show()\n"
   ]
  },
  {
   "cell_type": "code",
   "execution_count": 6,
   "id": "e8e86b48-fd0a-42bc-9a11-c745530c4584",
   "metadata": {
    "execution": {
     "iopub.execute_input": "2024-09-16T14:32:53.933744Z",
     "iopub.status.busy": "2024-09-16T14:32:53.933315Z",
     "iopub.status.idle": "2024-09-16T15:32:19.203763Z",
     "shell.execute_reply": "2024-09-16T15:32:19.203332Z",
     "shell.execute_reply.started": "2024-09-16T14:32:53.933710Z"
    }
   },
   "outputs": [
    {
     "data": {
      "image/png": "[encoded data removed]",
      "text/plain": [
       "<Figure size 1500x1000 with 4 Axes>"
      ]
     },
     "metadata": {},
     "output_type": "display_data"
    }
   ],
   "source": [
    "import matplotlib.pyplot as plt\n",
    "import torch\n",
    "\n",
    "# Step 1: Calculate the average mod_qual for each CpG in train1 and train2\n",
    "def calculate_avg_mod_qual(df):\n",
    "    return df.groupby('CpG_site')['mod_qual'].mean().to_dict()\n",
    "\n",
    "avg_mod_qual_a = calculate_avg_mod_qual(train1)  # Person A averages\n",
    "avg_mod_qual_b = calculate_avg_mod_qual(train2)  # Person B averages\n",
    "\n",
    "# Step 2: Calculate the differences directly from train1 and train2\n",
    "def calculate_differences(df, avg_mod_qual_a, avg_mod_qual_b):\n",
    "    diff_a_from_a = []\n",
    "    diff_b_from_a = []\n",
    "    diff_a_from_b = []\n",
    "    diff_b_from_b = []\n",
    "    \n",
    "    for _, row in df.iterrows():\n",
    "        cpg = row['CpG_site']\n",
    "        mod_qual = row['mod_qual']\n",
    "        \n",
    "        # For CpG sites where we have an average for both Person A and Person B\n",
    "        if cpg in avg_mod_qual_a and cpg in avg_mod_qual_b:\n",
    "            # Difference from Person A's average\n",
    "            diff_a = mod_qual - avg_mod_qual_a[cpg]\n",
    "            # Difference from Person B's average\n",
    "            diff_b = mod_qual - avg_mod_qual_b[cpg]\n",
    "            \n",
    "            if row['person'] == 'A':  # If current row is from Person A\n",
    "                diff_a_from_a.append(diff_a)\n",
    "                diff_b_from_a.append(diff_b)\n",
    "            elif row['person'] == 'B':  # If current row is from Person B\n",
    "                diff_a_from_b.append(diff_a)\n",
    "                diff_b_from_b.append(diff_b)\n",
    "    \n",
    "    return diff_a_from_a, diff_b_from_a, diff_a_from_b, diff_b_from_b\n",
    "\n",
    "# Add a 'person' column to distinguish between train1 and train2\n",
    "train1['person'] = 'A'\n",
    "train2['person'] = 'B'\n",
    "\n",
    "# Combine train1 and train2 for easier processing\n",
    "combined_train = pd.concat([train1, train2])\n",
    "\n",
    "# Get the differences for both persons\n",
    "diff_a_from_a, diff_b_from_a, diff_a_from_b, diff_b_from_b = calculate_differences(combined_train, avg_mod_qual_a, avg_mod_qual_b)\n",
    "\n",
    "# Step 3: Plot the differences in 4 plots\n",
    "fig, axs = plt.subplots(2, 2, figsize=(15, 10))\n",
    "\n",
    "# 1. Person A's differences from Person A's average\n",
    "axs[0, 0].hist(diff_a_from_a, bins=50, alpha=0.5, color='blue')\n",
    "axs[0, 0].set_title(\"Person A's Differences from Person A's Average\")\n",
    "axs[0, 0].set_xlabel('mod_qual Differences')\n",
    "axs[0, 0].set_ylabel('Frequency')\n",
    "\n",
    "# 2. Person A's differences from Person B's average\n",
    "axs[0, 1].hist(diff_b_from_a, bins=50, alpha=0.5, color='orange')\n",
    "axs[0, 1].set_title(\"Person A's Differences from Person B's Average\")\n",
    "axs[0, 1].set_xlabel('mod_qual Differences')\n",
    "axs[0, 1].set_ylabel('Frequency')\n",
    "\n",
    "# 3. Person B's differences from Person A's average\n",
    "axs[1, 0].hist(diff_a_from_b, bins=50, alpha=0.5, color='green')\n",
    "axs[1, 0].set_title(\"Person B's Differences from Person A's Average\")\n",
    "axs[1, 0].set_xlabel('mod_qual Differences')\n",
    "axs[1, 0].set_ylabel('Frequency')\n",
    "\n",
    "# 4. Person B's differences from Person B's average\n",
    "axs[1, 1].hist(diff_b_from_b, bins=50, alpha=0.5, color='red')\n",
    "axs[1, 1].set_title(\"Person B's Differences from Person B's Average\")\n",
    "axs[1, 1].set_xlabel('mod_qual Differences')\n",
    "axs[1, 1].set_ylabel('Frequency')\n",
    "\n",
    "plt.tight_layout()\n",
    "plt.show()\n"
   ]
  }
 ],
 "metadata": {
  "kernelspec": {
   "display_name": "myenv",
   "language": "python",
   "name": "myenv"
  },
  "language_info": {
   "codemirror_mode": {
    "name": "ipython",
    "version": 3
   },
   "file_extension": ".py",
   "mimetype": "text/x-python",
   "name": "python",
   "nbconvert_exporter": "python",
   "pygments_lexer": "ipython3",
   "version": "3.11.8"
  }
 },
 "nbformat": 4,
 "nbformat_minor": 5
}
